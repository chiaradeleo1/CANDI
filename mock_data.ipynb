{
 "cells": [
  {
   "cell_type": "code",
   "execution_count": 1,
   "id": "64cc92d2-0ee2-4d39-a407-88f9c4b5bc33",
   "metadata": {},
   "outputs": [],
   "source": [
    "import sys,os,re\n",
    "import numpy             as np\n",
    "import matplotlib.pyplot as plt\n",
    "import pandas            as pd\n",
    "import seaborn           as sb\n",
    "\n",
    "\n",
    "\n",
    "from itertools import product\n",
    "from copy      import deepcopy\n",
    "from time      import time\n",
    "\n",
    "from scipy.interpolate import interp1d\n",
    "from scipy.integrate   import trapz\n",
    "\n",
    "import warnings\n",
    "warnings.filterwarnings('ignore')\n",
    "\n",
    "import matplotlib\n",
    "from matplotlib import rc\n",
    "from matplotlib.pyplot import cm\n",
    "from matplotlib.colors import LogNorm\n",
    "\n",
    "rc('text', usetex=True)\n",
    "rc('font', family='serif')\n",
    "matplotlib.rcParams.update({'font.size': 18})\n",
    "\n",
    "\n",
    "sidelegend = {'bbox_to_anchor': (1.04,0.5), \n",
    "              'loc': \"center left\",\n",
    "              'frameon': False}\n"
   ]
  },
  {
   "cell_type": "code",
   "execution_count": 2,
   "id": "036d45e6-60b3-47f1-ac96-98f246ab2f0c",
   "metadata": {},
   "outputs": [],
   "source": [
    "fiducial = {'ombh2': 0.022445,\n",
    "            'omch2': 0.1205579307,\n",
    "            'ns': 0.96,\n",
    "            'As': 2.12605e-09,\n",
    "            'tau': 0.05,\n",
    "            'H0': 67.36,\n",
    "            'w': -1.,\n",
    "            'wa': 0.,\n",
    "            'mnu': 0.06}\n",
    "epsilon=0"
   ]
  },
  {
   "cell_type": "code",
   "execution_count": 3,
   "id": "2b2e3e4c-70da-4fca-bd37-b8540e1b2d4c",
   "metadata": {},
   "outputs": [
    {
     "ename": "AttributeError",
     "evalue": "can't set attribute",
     "output_type": "error",
     "traceback": [
      "\u001b[0;31m---------------------------------------------------------------------------\u001b[0m",
      "\u001b[0;31mAttributeError\u001b[0m                            Traceback (most recent call last)",
      "Cell \u001b[0;32mIn[3], line 4\u001b[0m\n\u001b[1;32m      1\u001b[0m \u001b[38;5;28;01mimport\u001b[39;00m \u001b[38;5;21;01mcamb\u001b[39;00m\n\u001b[1;32m      3\u001b[0m z_camb  \u001b[38;5;241m=\u001b[39m np\u001b[38;5;241m.\u001b[39mlinspace(\u001b[38;5;241m0.001\u001b[39m,\u001b[38;5;241m4.\u001b[39m,\u001b[38;5;241m10000\u001b[39m)\n\u001b[0;32m----> 4\u001b[0m pars    \u001b[38;5;241m=\u001b[39m \u001b[43mcamb\u001b[49m\u001b[38;5;241;43m.\u001b[39;49m\u001b[43mset_params\u001b[49m\u001b[43m(\u001b[49m\u001b[38;5;241;43m*\u001b[39;49m\u001b[38;5;241;43m*\u001b[39;49m\u001b[43mfiducial\u001b[49m\u001b[43m)\u001b[49m\n\u001b[1;32m      5\u001b[0m results \u001b[38;5;241m=\u001b[39m camb\u001b[38;5;241m.\u001b[39mget_results(pars)\n\u001b[1;32m      6\u001b[0m dA      \u001b[38;5;241m=\u001b[39m results\u001b[38;5;241m.\u001b[39mangular_diameter_distance2(\u001b[38;5;241m0\u001b[39m,z_camb)\n",
      "File \u001b[0;32m~/myenv/lib/python3.9/site-packages/camb/camb.py:179\u001b[0m, in \u001b[0;36mset_params\u001b[0;34m(cp, verbose, **params)\u001b[0m\n\u001b[1;32m    177\u001b[0m     par \u001b[38;5;241m=\u001b[39m k\n\u001b[1;32m    178\u001b[0m \u001b[38;5;28;01mif\u001b[39;00m \u001b[38;5;28mhasattr\u001b[39m(obj, par):\n\u001b[0;32m--> 179\u001b[0m     \u001b[38;5;28;43msetattr\u001b[39;49m\u001b[43m(\u001b[49m\u001b[43mobj\u001b[49m\u001b[43m,\u001b[49m\u001b[43m \u001b[49m\u001b[43mpar\u001b[49m\u001b[43m,\u001b[49m\u001b[43m \u001b[49m\u001b[43mparams\u001b[49m\u001b[43m[\u001b[49m\u001b[43mk\u001b[49m\u001b[43m]\u001b[49m\u001b[43m)\u001b[49m\n\u001b[1;32m    180\u001b[0m \u001b[38;5;28;01melse\u001b[39;00m:\n\u001b[1;32m    181\u001b[0m     \u001b[38;5;28;01mraise\u001b[39;00m CAMBUnknownArgumentError(\u001b[38;5;124m\"\u001b[39m\u001b[38;5;124mUnrecognized parameter: \u001b[39m\u001b[38;5;132;01m%s\u001b[39;00m\u001b[38;5;124m\"\u001b[39m \u001b[38;5;241m%\u001b[39m k)\n",
      "\u001b[0;31mAttributeError\u001b[0m: can't set attribute"
     ]
    }
   ],
   "source": [
    "import camb\n",
    "\n",
    "z_camb  = np.linspace(0.001,4.,10000)\n",
    "pars    = camb.set_params(**fiducial)\n",
    "results = camb.get_results(pars)\n",
    "dA      = results.angular_diameter_distance2(0,z_camb)\n",
    "Hz      = results.hubble_parameter(z_camb)\n",
    "dL_camb = results.luminosity_distance(z_camb)\n",
    "dL      = (1+z_camb)**(2+epsilon)*dA"
   ]
  },
  {
   "cell_type": "code",
   "execution_count": null,
   "id": "90cd0fec-fd52-4848-bb54-6950e943286e",
   "metadata": {},
   "outputs": [],
   "source": [
    "\n",
    "\n",
    "BAO_mock = {'DH': interp1d(z_camb,  2.99 * 10**5/ Hz),\n",
    "            'DV': interp1d(z_camb, ((1+z_camb)**2 * dA**2 *z_camb * 2.99 * 10**5/ Hz )**(1/3))}"
   ]
  },
  {
   "cell_type": "code",
   "execution_count": null,
   "id": "0c9a3b12",
   "metadata": {},
   "outputs": [],
   "source": [
    "bin_edges = np.linspace(0.65, 1.85, 14)\n",
    "z_bins    = (bin_edges[:-1] + bin_edges[1:]) / 2\n",
    "DH        = BAO_mock['DH'](z_bins)\n",
    "DV        = BAO_mock['DV'](z_bins)\n"
   ]
  },
  {
   "cell_type": "code",
   "execution_count": null,
   "id": "309a2523",
   "metadata": {},
   "outputs": [],
   "source": [
    "y1 = 2.99*10**5 / (DH)\n",
    "y2 = (DV**3/(z_bins*(1+z_bins)**2 * DH))**0.5\n",
    "sigma= np.abs(np.random.normal(loc=0, scale=100, size=len(z_bins) ))\n",
    "\n",
    "plt.figure(figsize=(8, 6))\n",
    "plt.plot(z_camb, dA, label=\"Theoretical dA\", color='red', linewidth=2)\n",
    "plt.errorbar(z_bins, y2, yerr=sigma, fmt='o',label='dA mock')\n",
    "plt.xlim(0.3, 2.0)\n",
    "plt.ylim(1300, 2100)\n",
    "plt.xlabel(\"Redshift (z)\")\n",
    "plt.ylabel(\"DA\")\n",
    "plt.title(\"DA vs Redshift\")\n",
    "plt.legend()\n",
    "plt.show()"
   ]
  },
  {
   "cell_type": "code",
   "execution_count": null,
   "id": "a8b4ae7d",
   "metadata": {},
   "outputs": [],
   "source": [
    "sigma = np.abs(np.random.normal(loc=0, scale=10, size=len(z_bins) ))\n",
    "plt.figure(figsize=(8, 6))\n",
    "plt.plot(z_camb, Hz, label=\"Theoretical Hz\", color='red', linewidth=2)\n",
    "plt.errorbar(z_bins, y1, yerr=sigma, fmt='o',label='Hz mock')\n",
    "plt.xlim(0.3, 2.0)\n",
    "plt.ylim(50, 250)\n",
    "plt.xlabel(\"Redshift (z)\")\n",
    "plt.ylabel(\"Hz\")\n",
    "plt.title(\"Hz vs Redshift\")\n",
    "plt.legend()\n",
    "plt.show()"
   ]
  },
  {
   "cell_type": "code",
   "execution_count": null,
   "id": "adecccbe",
   "metadata": {},
   "outputs": [],
   "source": [
    "#SN\n",
    "N_SN = 8800\n",
    "\n",
    "def dN_dz(z):\n",
    "    return 1.53e-4 * ((1 + z) / 1.5) ** 2.14 * (fiducial['H0']/70)**3\n",
    "\n",
    "\n",
    "z         = np.linspace(0.1,1.0, 10000)\n",
    "p_z       = dN_dz(z)\n",
    "p_z      /= np.sum(p_z) \n",
    "z_sampled = np.random.choice(z, size=N_SN, p=p_z, replace=False)\n",
    "\n",
    "z_SN      = np.sort(z_sampled)\n",
    "\n",
    "\n",
    "\n",
    "mock_mu   = interp1d(z_camb, 5 * np.log10(dL) + 25)\n",
    "\n",
    "mu        = mock_mu(z_SN)\n",
    "\n"
   ]
  },
  {
   "cell_type": "code",
   "execution_count": null,
   "id": "714a45d5",
   "metadata": {},
   "outputs": [],
   "source": [
    "mu_theoretical = 5 * np.log10(dL_camb) + 25\n"
   ]
  },
  {
   "cell_type": "code",
   "execution_count": null,
   "id": "e7168ad3",
   "metadata": {},
   "outputs": [],
   "source": [
    "sigma = np.abs(np.random.normal(loc=0, scale= 0.2, size=N_SN) )\n",
    "z_plot= np.linspace(0.1,1.0,10000)\n",
    "\n",
    "\n",
    "plt.figure(figsize=(8, 6))\n",
    "plt.errorbar(z_SN, mu, fmt='o', yerr=sigma, label=\"Distance Modulus vs Redshift\", \n",
    "             capsize=2, markersize=5, alpha=0.8,  zorder=1)\n",
    "\n",
    "plt.plot(z_camb, mu_theoretical, label=\"Theoretical Distance Modulus\", color='red', linewidth=3, zorder=2)\n",
    "\n",
    "plt.xlim(0.1,1.0)\n",
    "plt.ylim(35,45)\n",
    "plt.xlabel(\"Redshift (z)\")\n",
    "plt.ylabel(\"Distance Modulus (mu)\")\n",
    "plt.title(\"Distance Modulus vs Redshift\")\n",
    "plt.legend()\n",
    "plt.show()"
   ]
  },
  {
   "cell_type": "code",
   "execution_count": null,
   "id": "ae721752",
   "metadata": {},
   "outputs": [],
   "source": [
    "#SAVING DATA\n",
    "sigma_SN = [1] * N_SN\n",
    "df_SN        = pd.DataFrame({'z': z_SN,\n",
    "                             'mu': mu,\n",
    "                             'err': sigma_SN})\n",
    "\n",
    "df_SN.to_csv('SN_mock.txt', sep='\\t', index=False)\n",
    "\n",
    "sigma_DH= [10] * len(z_bins)\n",
    "sigma_DV= [10] * len(z_bins)\n",
    "\n",
    "df_BAO        = pd.DataFrame({'z' : z_bins,\n",
    "                             'DH': DH,\n",
    "                             'err_DH': sigma_DH,\n",
    "                             'DV': DV,\n",
    "                             'err_DV': sigma_DV})\n",
    "#print(df)\n",
    "\n",
    "df_BAO.to_csv('BAO_mock.txt', sep='\\t', index=False)"
   ]
  }
 ],
 "metadata": {
  "kernelspec": {
   "display_name": "Python 3 (ipykernel)",
   "language": "python",
   "name": "python3"
  },
  "language_info": {
   "codemirror_mode": {
    "name": "ipython",
    "version": 3
   },
   "file_extension": ".py",
   "mimetype": "text/x-python",
   "name": "python",
   "nbconvert_exporter": "python",
   "pygments_lexer": "ipython3",
   "version": "3.9.6"
  }
 },
 "nbformat": 4,
 "nbformat_minor": 5
}
