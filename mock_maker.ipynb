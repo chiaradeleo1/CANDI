{
 "cells": [
  {
   "cell_type": "code",
   "execution_count": 1,
   "id": "db8d508d-2882-4a65-bea4-83b4a064a853",
   "metadata": {},
   "outputs": [],
   "source": [
    "import sys,os,re\n",
    "import numpy             as np\n",
    "import matplotlib.pyplot as plt\n",
    "import pandas            as pd\n",
    "import seaborn           as sb\n",
    "\n",
    "from theory_code.distance_theory import TheoryCalcs\n",
    "from mock_data.mock_data_code    import MockCalcs\n",
    "\n",
    "from cobaya.run import run\n",
    "\n",
    "from itertools import product\n",
    "from copy      import deepcopy\n",
    "from time      import time\n",
    "from bios      import read\n",
    "\n",
    "from scipy.interpolate import interp1d\n",
    "from scipy.integrate   import trapz\n",
    "\n",
    "import warnings\n",
    "warnings.filterwarnings('ignore')\n",
    "\n",
    "import matplotlib\n",
    "from matplotlib import rc\n",
    "from matplotlib.pyplot import cm\n",
    "from matplotlib.colors import LogNorm\n",
    "\n",
    "rc('text', usetex=True)\n",
    "rc('font', family='serif')\n",
    "matplotlib.rcParams.update({'font.size': 18})\n",
    "\n",
    "\n",
    "sidelegend = {'bbox_to_anchor': (1.04,0.5), \n",
    "              'loc': \"center left\",\n",
    "              'frameon': False}"
   ]
  },
  {
   "cell_type": "markdown",
   "id": "4449d546",
   "metadata": {},
   "source": [
    "# Settings"
   ]
  },
  {
   "cell_type": "markdown",
   "id": "18daf5d2",
   "metadata": {},
   "source": [
    "## Theory"
   ]
  },
  {
   "cell_type": "code",
   "execution_count": 22,
   "id": "29efff96-c0cf-4cce-b203-e58cb721ab51",
   "metadata": {},
   "outputs": [],
   "source": [
    "fiducial = {'H0': 68.53,\n",
    "            'omegam': 0.2948,\n",
    "            'ombh2': 0.02218,\n",
    "            'omk': 0.,\n",
    "            'epsilon0_EM': 0.1,\n",
    "            'epsilon0_GW': 0.1,\n",
    "            'mnu': 0.06,\n",
    "            'nnu': 3.,\n",
    "            'MB': -19.2435}\n",
    "\n",
    "settings = {'zmin': 0.001,\n",
    "            'zmax': 5.,\n",
    "            'Nz': 1000,\n",
    "            'zdrag': 1060,\n",
    "            'DDR_model': 'constant'}\n"
   ]
  },
  {
   "cell_type": "markdown",
   "id": "70e23da6",
   "metadata": {},
   "source": [
    "## Observables"
   ]
  },
  {
   "cell_type": "code",
   "execution_count": 32,
   "id": "a7387208",
   "metadata": {},
   "outputs": [],
   "source": [
    "obs_settings = {#'BAO' : {'distribution': 'binned',\n",
    "                #         'error_type' : 0.05,\n",
    "                #         'correlation': False,\n",
    "                #         'BAO_file_path' : './mock_data/BAOmock_standard_nonoise',\n",
    "                #         'zmin': 0.65,\n",
    "                #         'zmax': 1.85,\n",
    "                #         'N_bin': 14,\n",
    "                #         'spread_data': False,\n",
    "                #         #'run_settings': {'file': 'settings/BAO_LCDM.yaml',\n",
    "                #         #                 'varpar': 'H0',\n",
    "                #         #                 'varvec': np.linspace(62,74,100)}\n",
    "                #        },\n",
    "                'SN' : {'distribution': 'Euclid',\n",
    "                        'error_type' : 'LSST-like',\n",
    "                        'correlation': False,\n",
    "                        'SN_file_path' : './mock_data/SNmock_eps01',\n",
    "                        'zmin': 0.1,\n",
    "                        'zmax': 1.0,\n",
    "                        'N_SN': 8800,\n",
    "                        'spread_data': True,\n",
    "                        #'run_settings': {'file': 'settings/SN_LCDM.yaml',\n",
    "                        #                 'varpar': 'omegam',\n",
    "                        #                 'varvec': np.linspace(0.1,0.5,10)}\n",
    "                       },\n",
    "               'GW' : {'distribution': 'BNS',\n",
    "                       'error_type' : 0.1,\n",
    "                       'GW_file_path' : './mock_data/GWmock_eps01',\n",
    "                       'correlation': False,\n",
    "                       'zmin': 0.001,\n",
    "                       'zmax': 5.0,\n",
    "                       'N_gw': 1000,\n",
    "                       'spread_data': True,\n",
    "                       #'run_settings': {'file': 'settings/GW_LCDM.yaml',\n",
    "                       #                 'varpar': 'H0',\n",
    "                       #                 'varvec': np.linspace(62,74,100)}\n",
    "                      }\n",
    "               }"
   ]
  },
  {
   "cell_type": "markdown",
   "id": "d78298e2",
   "metadata": {},
   "source": [
    "# Creating mock data"
   ]
  },
  {
   "cell_type": "markdown",
   "id": "37a1adc8",
   "metadata": {},
   "source": [
    "## Getting fiducial theory"
   ]
  },
  {
   "cell_type": "code",
   "execution_count": 33,
   "id": "5ca098d3-a545-4519-b3b4-3a0c4a2e7d66",
   "metadata": {},
   "outputs": [],
   "source": [
    "fiducial_theory = TheoryCalcs(settings,fiducial)\n",
    "zplot = np.linspace(0.01,3,100)"
   ]
  },
  {
   "cell_type": "markdown",
   "id": "0423dec0",
   "metadata": {},
   "source": [
    "## Initializing mock class"
   ]
  },
  {
   "cell_type": "code",
   "execution_count": null,
   "id": "fb43c3b8-bb47-45ce-8e49-d68f68d4d72e",
   "metadata": {},
   "outputs": [
    {
     "name": "stdout",
     "output_type": "stream",
     "text": [
      "CREATING MOCKS FOR ['SN', 'GW']\n"
     ]
    }
   ],
   "source": [
    "mock = MockCalcs(settings, obs_settings, fiducial, fiducial_theory)"
   ]
  },
  {
   "cell_type": "markdown",
   "id": "d29290ea",
   "metadata": {},
   "source": [
    "## BAO data\n",
    "\n",
    "**Minor problem here: the format with which BAO_data is obtained is different from the one used in the likelihood. we should make those match**\n",
    "\n",
    "**Also, DV should probably be on different redshifts than DH and DM**"
   ]
  },
  {
   "cell_type": "code",
   "execution_count": null,
   "id": "2f88be3b",
   "metadata": {},
   "outputs": [],
   "source": [
    "if 'BAO' in obs_settings:\n",
    "    BAO_data = mock.data_BAO"
   ]
  },
  {
   "cell_type": "code",
   "execution_count": null,
   "id": "4cc14909",
   "metadata": {},
   "outputs": [],
   "source": [
    "if 'BAO' in obs_settings:\n",
    "    \n",
    "    zplot = np.linspace(min(BAO_data['z']),max(BAO_data['z']),100)\n",
    "    \n",
    "    fig, axes = plt.subplots(ncols=3, nrows=1, sharex=True,subplot_kw=dict(frameon=True),figsize=(10,5))\n",
    "    axes[0].errorbar(BAO_data['z'],BAO_data['DH'],yerr=BAO_data['err_DH'],ls='',marker='*',color='black')\n",
    "    axes[0].plot(zplot,fiducial_theory.DH(zplot))\n",
    "    axes[0].set_xlabel(r'$z$')\n",
    "    axes[0].set_ylabel(r'$D_H(z)$')\n",
    "    \n",
    "    axes[1].errorbar(BAO_data['z'],BAO_data['DM'],yerr=BAO_data['err_DM'],ls='',marker='*',color='black')\n",
    "    axes[1].plot(zplot,fiducial_theory.DM(zplot))\n",
    "    axes[1].set_xlabel(r'$z$')\n",
    "    axes[1].set_ylabel(r'$D_M(z)$')\n",
    "    \n",
    "    axes[2].errorbar(BAO_data['z'],BAO_data['DV'],yerr=BAO_data['err_DV'],ls='',marker='*',color='black')\n",
    "    axes[2].plot(zplot,fiducial_theory.DV(zplot))\n",
    "    axes[2].set_xlabel(r'$z$')\n",
    "    axes[2].set_ylabel(r'$D_V(z)$')\n",
    "    \n",
    "    plt.tight_layout();"
   ]
  },
  {
   "cell_type": "markdown",
   "id": "bf5c1425",
   "metadata": {},
   "source": [
    "## SN data"
   ]
  },
  {
   "cell_type": "code",
   "execution_count": null,
   "id": "4b6d079d",
   "metadata": {},
   "outputs": [],
   "source": [
    "if 'SN' in obs_settings:\n",
    "    SN_data = deepcopy(mock.data_SN)\n",
    "    weird = []\n",
    "    for z,val,err in zip(SN_data['z'],SN_data['mB'],SN_data['err_mB']):\n",
    "        if val<fiducial_theory.mB(z)+2*err and val>fiducial_theory.mB(z)-2*err:\n",
    "            weird.append('No')\n",
    "        else:\n",
    "            weird.append('Yes')\n",
    "    SN_data['Weird'] = weird\n",
    "    \n",
    "    SNdf = pd.DataFrame.from_dict(SN_data)"
   ]
  },
  {
   "cell_type": "code",
   "execution_count": null,
   "id": "3a15fe01",
   "metadata": {},
   "outputs": [],
   "source": [
    "if 'SN' in obs_settings:\n",
    "    print('Weird points are {}%'.format(100*(len(SNdf[SNdf['Weird']=='Yes']))/len(SNdf)))\n",
    "    zplot = np.linspace(min(SN_data['z']),max(SN_data['z']),100)\n",
    "    \n",
    "    plt.figure()\n",
    "    plt.errorbar(SN_data['z'],SN_data['mB'],yerr=SN_data['err_mB'],ls='',marker='',color='black')\n",
    "    sb.scatterplot(SNdf,x='z',y='mB',hue='Weird')\n",
    "    plt.plot(zplot,fiducial_theory.mB(zplot))\n",
    "    plt.xlabel(r'$z$')\n",
    "    plt.ylabel(r'$m_B(z)$');"
   ]
  },
  {
   "cell_type": "markdown",
   "id": "d00fb7b4",
   "metadata": {},
   "source": [
    "## Standard Sirens data"
   ]
  },
  {
   "cell_type": "code",
   "execution_count": null,
   "id": "3f5123e5",
   "metadata": {},
   "outputs": [],
   "source": [
    "if 'GW' in obs_settings:    \n",
    "    GW_data = deepcopy(mock.data_GW)\n",
    "    weird = []\n",
    "    for z,val,err in zip(GW_data['z'],GW_data['dL'],GW_data['err_dL']):\n",
    "        if val<fiducial_theory.DL_GW(z)+2*err and val>fiducial_theory.DL_GW(z)-2*err:\n",
    "            weird.append('No')\n",
    "        else:\n",
    "            weird.append('Yes')\n",
    "    GW_data['Weird'] = weird\n",
    "    GWdf = pd.DataFrame.from_dict(GW_data)"
   ]
  },
  {
   "cell_type": "code",
   "execution_count": null,
   "id": "89725285",
   "metadata": {},
   "outputs": [],
   "source": [
    "if 'GW' in obs_settings: \n",
    "    print('Weird points are {}%'.format(100*len(GWdf[GWdf['Weird']=='Yes'])/len(GWdf)))\n",
    "    zplot = np.linspace(min(GW_data['z']),max(GW_data['z']),100)\n",
    "    \n",
    "    plt.figure()\n",
    "    plt.errorbar(GWdf['z'],GWdf['dL'],yerr=GWdf['err_dL'],ls='',marker='',color='black')\n",
    "    sb.scatterplot(GWdf,x='z',y='dL',hue='Weird')\n",
    "    plt.plot(zplot,fiducial_theory.DL_GW(zplot))\n",
    "    plt.xlabel(r'$z$')\n",
    "    plt.ylabel(r'$d_L^{\\rm GW}(z)$');"
   ]
  },
  {
   "cell_type": "markdown",
   "id": "a1b5fc40",
   "metadata": {},
   "source": [
    "# Grid testing in created data"
   ]
  },
  {
   "cell_type": "code",
   "execution_count": 12,
   "id": "c5472291",
   "metadata": {},
   "outputs": [
    {
     "ename": "ValueError",
     "evalue": "No objects to concatenate",
     "output_type": "error",
     "traceback": [
      "\u001b[0;31m---------------------------------------------------------------------------\u001b[0m",
      "\u001b[0;31mValueError\u001b[0m                                Traceback (most recent call last)",
      "Cell \u001b[0;32mIn[12], line 43\u001b[0m\n\u001b[1;32m     37\u001b[0m             updated_info,sampler \u001b[38;5;241m=\u001b[39m run(temp)\n\u001b[1;32m     39\u001b[0m             dflist\u001b[38;5;241m.\u001b[39mappend(pd\u001b[38;5;241m.\u001b[39mDataFrame\u001b[38;5;241m.\u001b[39mfrom_dict({rundict[\u001b[38;5;124m'\u001b[39m\u001b[38;5;124mvarpar\u001b[39m\u001b[38;5;124m'\u001b[39m]: [val],\n\u001b[1;32m     40\u001b[0m                                                   \u001b[38;5;124m'\u001b[39m\u001b[38;5;124mloglike\u001b[39m\u001b[38;5;124m'\u001b[39m: [sampler\u001b[38;5;241m.\u001b[39mlogposterior\u001b[38;5;241m.\u001b[39mloglike],\n\u001b[1;32m     41\u001b[0m                                                   \u001b[38;5;124m'\u001b[39m\u001b[38;5;124mObservable\u001b[39m\u001b[38;5;124m'\u001b[39m: [obs]}))\n\u001b[0;32m---> 43\u001b[0m test_results \u001b[38;5;241m=\u001b[39m \u001b[43mpd\u001b[49m\u001b[38;5;241;43m.\u001b[39;49m\u001b[43mconcat\u001b[49m\u001b[43m(\u001b[49m\u001b[43mdflist\u001b[49m\u001b[43m,\u001b[49m\u001b[43mignore_index\u001b[49m\u001b[38;5;241;43m=\u001b[39;49m\u001b[38;5;28;43;01mTrue\u001b[39;49;00m\u001b[43m)\u001b[49m\n",
      "File \u001b[0;32m~/anaconda3/envs/cloe/lib/python3.9/site-packages/pandas/util/_decorators.py:331\u001b[0m, in \u001b[0;36mdeprecate_nonkeyword_arguments.<locals>.decorate.<locals>.wrapper\u001b[0;34m(*args, **kwargs)\u001b[0m\n\u001b[1;32m    325\u001b[0m \u001b[38;5;28;01mif\u001b[39;00m \u001b[38;5;28mlen\u001b[39m(args) \u001b[38;5;241m>\u001b[39m num_allow_args:\n\u001b[1;32m    326\u001b[0m     warnings\u001b[38;5;241m.\u001b[39mwarn(\n\u001b[1;32m    327\u001b[0m         msg\u001b[38;5;241m.\u001b[39mformat(arguments\u001b[38;5;241m=\u001b[39m_format_argument_list(allow_args)),\n\u001b[1;32m    328\u001b[0m         \u001b[38;5;167;01mFutureWarning\u001b[39;00m,\n\u001b[1;32m    329\u001b[0m         stacklevel\u001b[38;5;241m=\u001b[39mfind_stack_level(),\n\u001b[1;32m    330\u001b[0m     )\n\u001b[0;32m--> 331\u001b[0m \u001b[38;5;28;01mreturn\u001b[39;00m \u001b[43mfunc\u001b[49m\u001b[43m(\u001b[49m\u001b[38;5;241;43m*\u001b[39;49m\u001b[43margs\u001b[49m\u001b[43m,\u001b[49m\u001b[43m \u001b[49m\u001b[38;5;241;43m*\u001b[39;49m\u001b[38;5;241;43m*\u001b[39;49m\u001b[43mkwargs\u001b[49m\u001b[43m)\u001b[49m\n",
      "File \u001b[0;32m~/anaconda3/envs/cloe/lib/python3.9/site-packages/pandas/core/reshape/concat.py:368\u001b[0m, in \u001b[0;36mconcat\u001b[0;34m(objs, axis, join, ignore_index, keys, levels, names, verify_integrity, sort, copy)\u001b[0m\n\u001b[1;32m    146\u001b[0m \u001b[38;5;129m@deprecate_nonkeyword_arguments\u001b[39m(version\u001b[38;5;241m=\u001b[39m\u001b[38;5;28;01mNone\u001b[39;00m, allowed_args\u001b[38;5;241m=\u001b[39m[\u001b[38;5;124m\"\u001b[39m\u001b[38;5;124mobjs\u001b[39m\u001b[38;5;124m\"\u001b[39m])\n\u001b[1;32m    147\u001b[0m \u001b[38;5;28;01mdef\u001b[39;00m \u001b[38;5;21mconcat\u001b[39m(\n\u001b[1;32m    148\u001b[0m     objs: Iterable[NDFrame] \u001b[38;5;241m|\u001b[39m Mapping[HashableT, NDFrame],\n\u001b[0;32m   (...)\u001b[0m\n\u001b[1;32m    157\u001b[0m     copy: \u001b[38;5;28mbool\u001b[39m \u001b[38;5;241m=\u001b[39m \u001b[38;5;28;01mTrue\u001b[39;00m,\n\u001b[1;32m    158\u001b[0m ) \u001b[38;5;241m-\u001b[39m\u001b[38;5;241m>\u001b[39m DataFrame \u001b[38;5;241m|\u001b[39m Series:\n\u001b[1;32m    159\u001b[0m \u001b[38;5;250m    \u001b[39m\u001b[38;5;124;03m\"\"\"\u001b[39;00m\n\u001b[1;32m    160\u001b[0m \u001b[38;5;124;03m    Concatenate pandas objects along a particular axis.\u001b[39;00m\n\u001b[1;32m    161\u001b[0m \n\u001b[0;32m   (...)\u001b[0m\n\u001b[1;32m    366\u001b[0m \u001b[38;5;124;03m    1   3   4\u001b[39;00m\n\u001b[1;32m    367\u001b[0m \u001b[38;5;124;03m    \"\"\"\u001b[39;00m\n\u001b[0;32m--> 368\u001b[0m     op \u001b[38;5;241m=\u001b[39m \u001b[43m_Concatenator\u001b[49m\u001b[43m(\u001b[49m\n\u001b[1;32m    369\u001b[0m \u001b[43m        \u001b[49m\u001b[43mobjs\u001b[49m\u001b[43m,\u001b[49m\n\u001b[1;32m    370\u001b[0m \u001b[43m        \u001b[49m\u001b[43maxis\u001b[49m\u001b[38;5;241;43m=\u001b[39;49m\u001b[43maxis\u001b[49m\u001b[43m,\u001b[49m\n\u001b[1;32m    371\u001b[0m \u001b[43m        \u001b[49m\u001b[43mignore_index\u001b[49m\u001b[38;5;241;43m=\u001b[39;49m\u001b[43mignore_index\u001b[49m\u001b[43m,\u001b[49m\n\u001b[1;32m    372\u001b[0m \u001b[43m        \u001b[49m\u001b[43mjoin\u001b[49m\u001b[38;5;241;43m=\u001b[39;49m\u001b[43mjoin\u001b[49m\u001b[43m,\u001b[49m\n\u001b[1;32m    373\u001b[0m \u001b[43m        \u001b[49m\u001b[43mkeys\u001b[49m\u001b[38;5;241;43m=\u001b[39;49m\u001b[43mkeys\u001b[49m\u001b[43m,\u001b[49m\n\u001b[1;32m    374\u001b[0m \u001b[43m        \u001b[49m\u001b[43mlevels\u001b[49m\u001b[38;5;241;43m=\u001b[39;49m\u001b[43mlevels\u001b[49m\u001b[43m,\u001b[49m\n\u001b[1;32m    375\u001b[0m \u001b[43m        \u001b[49m\u001b[43mnames\u001b[49m\u001b[38;5;241;43m=\u001b[39;49m\u001b[43mnames\u001b[49m\u001b[43m,\u001b[49m\n\u001b[1;32m    376\u001b[0m \u001b[43m        \u001b[49m\u001b[43mverify_integrity\u001b[49m\u001b[38;5;241;43m=\u001b[39;49m\u001b[43mverify_integrity\u001b[49m\u001b[43m,\u001b[49m\n\u001b[1;32m    377\u001b[0m \u001b[43m        \u001b[49m\u001b[43mcopy\u001b[49m\u001b[38;5;241;43m=\u001b[39;49m\u001b[43mcopy\u001b[49m\u001b[43m,\u001b[49m\n\u001b[1;32m    378\u001b[0m \u001b[43m        \u001b[49m\u001b[43msort\u001b[49m\u001b[38;5;241;43m=\u001b[39;49m\u001b[43msort\u001b[49m\u001b[43m,\u001b[49m\n\u001b[1;32m    379\u001b[0m \u001b[43m    \u001b[49m\u001b[43m)\u001b[49m\n\u001b[1;32m    381\u001b[0m     \u001b[38;5;28;01mreturn\u001b[39;00m op\u001b[38;5;241m.\u001b[39mget_result()\n",
      "File \u001b[0;32m~/anaconda3/envs/cloe/lib/python3.9/site-packages/pandas/core/reshape/concat.py:425\u001b[0m, in \u001b[0;36m_Concatenator.__init__\u001b[0;34m(self, objs, axis, join, keys, levels, names, ignore_index, verify_integrity, copy, sort)\u001b[0m\n\u001b[1;32m    422\u001b[0m     objs \u001b[38;5;241m=\u001b[39m \u001b[38;5;28mlist\u001b[39m(objs)\n\u001b[1;32m    424\u001b[0m \u001b[38;5;28;01mif\u001b[39;00m \u001b[38;5;28mlen\u001b[39m(objs) \u001b[38;5;241m==\u001b[39m \u001b[38;5;241m0\u001b[39m:\n\u001b[0;32m--> 425\u001b[0m     \u001b[38;5;28;01mraise\u001b[39;00m \u001b[38;5;167;01mValueError\u001b[39;00m(\u001b[38;5;124m\"\u001b[39m\u001b[38;5;124mNo objects to concatenate\u001b[39m\u001b[38;5;124m\"\u001b[39m)\n\u001b[1;32m    427\u001b[0m \u001b[38;5;28;01mif\u001b[39;00m keys \u001b[38;5;129;01mis\u001b[39;00m \u001b[38;5;28;01mNone\u001b[39;00m:\n\u001b[1;32m    428\u001b[0m     objs \u001b[38;5;241m=\u001b[39m \u001b[38;5;28mlist\u001b[39m(com\u001b[38;5;241m.\u001b[39mnot_none(\u001b[38;5;241m*\u001b[39mobjs))\n",
      "\u001b[0;31mValueError\u001b[0m: No objects to concatenate"
     ]
    }
   ],
   "source": [
    "from likelihood.BAO_likelihood         import BAOLike\n",
    "from likelihood.SN_likelihood          import SNLike\n",
    "from likelihood.GW_likelihood          import GWLike\n",
    "from theory_code.cobaya_theory_wrapper import CalcDist\n",
    "\n",
    "dflist = []\n",
    "\n",
    "for obs,obs_dict in obs_settings.items():\n",
    "    if 'run_settings' in obs_dict:\n",
    "        rundict = obs_dict['run_settings']\n",
    "        info = read(rundict['file'])\n",
    "        \n",
    "        info['likelihood'] = {}\n",
    "        if obs == 'BAO':\n",
    "            info['likelihood']['BAOLike'] = {'external': BAOLike,\n",
    "                                             'BAO_data_path': info['BAO_data']}\n",
    "        \n",
    "        if obs == 'SN':\n",
    "            info['likelihood']['SNLike'] =  {'external': SNLike,\n",
    "                                             'SN_data_path': info['SN_data']}\n",
    "        \n",
    "        if obs == 'GW':\n",
    "            info['likelihood']['GWLike'] =  {'external': GWLike,\n",
    "                                             'GW_data_path': info['GW_data']}\n",
    "        \n",
    "        info['theory'] = {'CalcDist': {'external': CalcDist}}\n",
    "\n",
    "        del info['output']\n",
    "        for par,par_dict in info['params'].items():\n",
    "            if par != rundict['varpar']:\n",
    "                if type(par_dict) == dict and 'prior' in par_dict:\n",
    "                    info['params'][par] = fiducial[par]\n",
    "                    \n",
    "        for val in rundict['varvec']:\n",
    "            temp = deepcopy(info)\n",
    "            temp['sampler'] = {'evaluate': {'override': {rundict['varpar']: val}}}\n",
    "            updated_info,sampler = run(temp)\n",
    "            \n",
    "            dflist.append(pd.DataFrame.from_dict({rundict['varpar']: [val],\n",
    "                                                  'loglike': [sampler.logposterior.loglike],\n",
    "                                                  'Observable': [obs]}))\n",
    "            \n",
    "test_results = pd.concat(dflist,ignore_index=True)"
   ]
  },
  {
   "cell_type": "code",
   "execution_count": null,
   "id": "89c835dd",
   "metadata": {},
   "outputs": [],
   "source": [
    "from scipy.integrate import trapezoid\n",
    "playground = test_results.copy()\n",
    "playground['P_unnorm'] = np.exp(playground['loglike'])\n",
    "playground['chi2_norm'] = -2*playground['loglike']-min(-2*playground['loglike'])\n",
    "playground['P'] = np.exp(playground['loglike'])\n",
    "for obs in playground['Observable'].unique():\n",
    "    \n",
    "    df = playground[playground['Observable']==obs]\n",
    "    \n",
    "    x = df[obs_settings[obs]['run_settings']['varpar']]\n",
    "    y = df['P_unnorm']\n",
    "    \n",
    "    norm = trapezoid(y,x=x)\n",
    "    print(norm)\n",
    "    playground[playground['Observable']==obs]['P'] *= y/norm\n",
    "    \n",
    "print(playground)"
   ]
  },
  {
   "cell_type": "code",
   "execution_count": null,
   "id": "fc333ef7",
   "metadata": {},
   "outputs": [],
   "source": [
    "plt.figure()\n",
    "sb.lineplot(playground,x=playground.columns[0],y='P',hue='Observable')\n",
    "plt.axvline(x=fiducial[playground.columns[0]],ls=':',color='black');\n",
    "\n",
    "plt.figure()\n",
    "sb.lineplot(playground,x=playground.columns[0],y='chi2_norm',hue='Observable')\n",
    "plt.axvline(x=fiducial[playground.columns[0]],ls=':',color='black');"
   ]
  },
  {
   "cell_type": "code",
   "execution_count": null,
   "id": "df854b7b",
   "metadata": {},
   "outputs": [],
   "source": []
  },
  {
   "cell_type": "code",
   "execution_count": null,
   "id": "2b59e5da",
   "metadata": {},
   "outputs": [],
   "source": []
  }
 ],
 "metadata": {
  "kernelspec": {
   "display_name": "Python 3 (ipykernel)",
   "language": "python",
   "name": "python3"
  },
  "language_info": {
   "codemirror_mode": {
    "name": "ipython",
    "version": 3
   },
   "file_extension": ".py",
   "mimetype": "text/x-python",
   "name": "python",
   "nbconvert_exporter": "python",
   "pygments_lexer": "ipython3",
   "version": "3.9.16"
  }
 },
 "nbformat": 4,
 "nbformat_minor": 5
}
