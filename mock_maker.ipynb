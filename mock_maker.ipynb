{
 "cells": [
  {
   "cell_type": "code",
   "execution_count": 1,
   "id": "db8d508d-2882-4a65-bea4-83b4a064a853",
   "metadata": {},
   "outputs": [],
   "source": [
    "import sys,os,re\n",
    "import numpy             as np\n",
    "import matplotlib.pyplot as plt\n",
    "import pandas            as pd\n",
    "import seaborn           as sb\n",
    "\n",
    "from theory_code.distance_theory import TheoryCalcs\n",
    "from mock_data.mock_data_code    import MockCalcs\n",
    "\n",
    "from itertools import product\n",
    "from copy      import deepcopy\n",
    "from time      import time\n",
    "\n",
    "from scipy.interpolate import interp1d\n",
    "from scipy.integrate   import trapz\n",
    "\n",
    "import warnings\n",
    "warnings.filterwarnings('ignore')\n",
    "\n",
    "import matplotlib\n",
    "from matplotlib import rc\n",
    "from matplotlib.pyplot import cm\n",
    "from matplotlib.colors import LogNorm\n",
    "\n",
    "rc('text', usetex=True)\n",
    "rc('font', family='serif')\n",
    "matplotlib.rcParams.update({'font.size': 18})\n",
    "\n",
    "\n",
    "sidelegend = {'bbox_to_anchor': (1.04,0.5), \n",
    "              'loc': \"center left\",\n",
    "              'frameon': False}"
   ]
  },
  {
   "cell_type": "markdown",
   "id": "4449d546",
   "metadata": {},
   "source": [
    "# Settings"
   ]
  },
  {
   "cell_type": "markdown",
   "id": "18daf5d2",
   "metadata": {},
   "source": [
    "## Theory"
   ]
  },
  {
   "cell_type": "code",
   "execution_count": 2,
   "id": "29efff96-c0cf-4cce-b203-e58cb721ab51",
   "metadata": {},
   "outputs": [],
   "source": [
    "fiducial = {'H0': 73.04,\n",
    "            'omegam': 0.2948,\n",
    "            'ombh2': 0.02218,\n",
    "            'omk': 0.,\n",
    "            'epsilon0_EM': 0.1,\n",
    "            'epsilon0_GW': -0.1,\n",
    "            'mnu': 0.06,\n",
    "            'nnu': 3.,\n",
    "            'MB': -19.2435}\n",
    "\n",
    "settings = {'zmin': 0.001,\n",
    "            'zmax': 5.,\n",
    "            'Nz': 1000,\n",
    "            'zdrag': 1060,\n",
    "            'DDR_model': 'padè'}\n"
   ]
  },
  {
   "cell_type": "markdown",
   "id": "70e23da6",
   "metadata": {},
   "source": [
    "## Observables"
   ]
  },
  {
   "cell_type": "code",
   "execution_count": 3,
   "id": "a7387208",
   "metadata": {},
   "outputs": [],
   "source": [
    "obs_settings = {#'BAO' : {'distribution': 'binned',\n",
    "                        # 'error_type' : 0.05,\n",
    "                        # 'correlation': False,\n",
    "                        # 'BAO_file_path' : './mock_data/BAOmock_pade',\n",
    "                        # 'zmin': 0.65,\n",
    "                        # 'zmax': 1.85,\n",
    "                        # 'N_bin': 14,\n",
    "                        # 'spread_data': True},\n",
    "                'SN' : {'distribution': 'Euclid',\n",
    "                        'error_type' : 'LSST-like',\n",
    "                        'correlation': False,\n",
    "                        'SN_file_path' : './mock_data/SNmock_pade',\n",
    "                        'zmin': 0.1,\n",
    "                        'zmax': 1.0,\n",
    "                        'N_SN': 8800,\n",
    "                        'spread_data': True},}\n",
    "               #'GW' : {'distribution': 'BNS',\n",
    "                     #  'error_type' : 0.1,\n",
    "                     #  'GW_file_path' : './mock_data/GWmock_pade',\n",
    "                     #  'correlation': False,\n",
    "                     #  'zmin': 0.001,\n",
    "                     #  'zmax': 5.0,\n",
    "                     #  'N_gw': 1000,\n",
    "                     #  'spread_data': True}}"
   ]
  },
  {
   "cell_type": "markdown",
   "id": "d78298e2",
   "metadata": {},
   "source": [
    "# Creating mock data"
   ]
  },
  {
   "cell_type": "markdown",
   "id": "37a1adc8",
   "metadata": {},
   "source": [
    "## Getting fiducial theory"
   ]
  },
  {
   "cell_type": "code",
   "execution_count": 4,
   "id": "5ca098d3-a545-4519-b3b4-3a0c4a2e7d66",
   "metadata": {},
   "outputs": [],
   "source": [
    "fiducial_theory = TheoryCalcs(settings,fiducial)\n",
    "zplot = np.linspace(0.01,3,100)"
   ]
  },
  {
   "cell_type": "markdown",
   "id": "0423dec0",
   "metadata": {},
   "source": [
    "## Initializing mock class"
   ]
  },
  {
   "cell_type": "code",
   "execution_count": 5,
   "id": "fb43c3b8-bb47-45ce-8e49-d68f68d4d72e",
   "metadata": {},
   "outputs": [],
   "source": [
    "mock = MockCalcs(settings, obs_settings, fiducial, fiducial_theory)"
   ]
  },
  {
   "cell_type": "markdown",
   "id": "d29290ea",
   "metadata": {},
   "source": [
    "## BAO data\n",
    "\n",
    "**Minor problem here: the format with which BAO_data is obtained is different from the one used in the likelihood. we should make those match**\n",
    "\n",
    "**Also, DV should probably be on different redshifts than DH and DM**"
   ]
  },
  {
   "cell_type": "code",
   "execution_count": 6,
   "id": "2f88be3b",
   "metadata": {},
   "outputs": [],
   "source": [
    "if 'BAO' in obs_settings:\n",
    "    BAO_data = mock.data_BAO"
   ]
  },
  {
   "cell_type": "code",
   "execution_count": 7,
   "id": "4cc14909",
   "metadata": {},
   "outputs": [],
   "source": [
    "if 'BAO' in obs_settings:\n",
    "    \n",
    "    zplot = np.linspace(min(BAO_data['z']),max(BAO_data['z']),100)\n",
    "    \n",
    "    fig, axes = plt.subplots(ncols=3, nrows=1, sharex=True,subplot_kw=dict(frameon=True),figsize=(10,5))\n",
    "    axes[0].errorbar(BAO_data['z'],BAO_data['DH'],yerr=BAO_data['err_DH'],ls='',marker='*',color='black')\n",
    "    axes[0].plot(zplot,fiducial_theory.DH(zplot))\n",
    "    axes[0].set_xlabel(r'$z$')\n",
    "    axes[0].set_ylabel(r'$D_H(z)$')\n",
    "    \n",
    "    axes[1].errorbar(BAO_data['z'],BAO_data['DM'],yerr=BAO_data['err_DM'],ls='',marker='*',color='black')\n",
    "    axes[1].plot(zplot,fiducial_theory.DM(zplot))\n",
    "    axes[1].set_xlabel(r'$z$')\n",
    "    axes[1].set_ylabel(r'$D_M(z)$')\n",
    "    \n",
    "    axes[2].errorbar(BAO_data['z'],BAO_data['DV'],yerr=BAO_data['err_DV'],ls='',marker='*',color='black')\n",
    "    axes[2].plot(zplot,fiducial_theory.DV(zplot))\n",
    "    axes[2].set_xlabel(r'$z$')\n",
    "    axes[2].set_ylabel(r'$D_V(z)$')\n",
    "    \n",
    "    plt.tight_layout();"
   ]
  },
  {
   "cell_type": "markdown",
   "id": "bf5c1425",
   "metadata": {},
   "source": [
    "## SN data"
   ]
  },
  {
   "cell_type": "code",
   "execution_count": 8,
   "id": "4b6d079d",
   "metadata": {},
   "outputs": [],
   "source": [
    "if 'SN' in obs_settings:\n",
    "    SN_data = mock.data_SN"
   ]
  },
  {
   "cell_type": "code",
   "execution_count": 9,
   "id": "3a15fe01",
   "metadata": {},
   "outputs": [
    {
     "data": {
      "image/png": "[encoded data removed]",
      "text/plain": [
       "<Figure size 640x480 with 1 Axes>"
      ]
     },
     "metadata": {},
     "output_type": "display_data"
    }
   ],
   "source": [
    "if 'SN' in obs_settings:\n",
    "    \n",
    "    zplot = np.linspace(min(SN_data['z']),max(SN_data['z']),100)\n",
    "    \n",
    "    plt.figure()\n",
    "    plt.plot(zplot,fiducial_theory.mB(zplot), zorder=2)\n",
    "    plt.errorbar(SN_data['z'],SN_data['mB'],yerr=SN_data['err_mB'],ls='',marker='*',color='black', zorder=1)\n",
    "    plt.xlabel(r'$z$')\n",
    "    plt.ylabel(r'$m_B(z)$');"
   ]
  },
  {
   "cell_type": "markdown",
   "id": "d00fb7b4",
   "metadata": {},
   "source": [
    "## Standard Sirens data"
   ]
  },
  {
   "cell_type": "code",
   "execution_count": 10,
   "id": "3f5123e5",
   "metadata": {},
   "outputs": [],
   "source": [
    "if 'GW' in obs_settings:    \n",
    "    GW_data = mock.data_GW"
   ]
  },
  {
   "cell_type": "code",
   "execution_count": 11,
   "id": "89725285",
   "metadata": {},
   "outputs": [],
   "source": [
    "if 'GW' in obs_settings: \n",
    "    zplot = np.linspace(min(GW_data['z']),max(GW_data['z']),100)\n",
    "    \n",
    "    plt.figure()\n",
    "    plt.errorbar(GW_data['z'],GW_data['dL'],yerr=GW_data['err_dL'],ls='',marker='*',color='black')\n",
    "    plt.plot(zplot,fiducial_theory.DL_GW(zplot))\n",
    "    plt.xlabel(r'$z$')\n",
    "    plt.ylabel(r'$d_L^{\\rm GW}(z)$');"
   ]
  },
  {
   "cell_type": "code",
   "execution_count": null,
   "id": "08b30ade",
   "metadata": {},
   "outputs": [],
   "source": []
  },
  {
   "cell_type": "code",
   "execution_count": null,
   "id": "c5472291",
   "metadata": {},
   "outputs": [],
   "source": []
  }
 ],
 "metadata": {
  "kernelspec": {
   "display_name": "Python 3 (ipykernel)",
   "language": "python",
   "name": "python3"
  },
  "language_info": {
   "codemirror_mode": {
    "name": "ipython",
    "version": 3
   },
   "file_extension": ".py",
   "mimetype": "text/x-python",
   "name": "python",
   "nbconvert_exporter": "python",
   "pygments_lexer": "ipython3",
   "version": "3.9.6"
  }
 },
 "nbformat": 4,
 "nbformat_minor": 5
}
