{
 "cells": [
  {
   "cell_type": "code",
   "execution_count": null,
   "id": "db8d508d-2882-4a65-bea4-83b4a064a853",
   "metadata": {},
   "outputs": [],
   "source": [
    "import sys,os,re\n",
    "import numpy             as np\n",
    "import matplotlib.pyplot as plt\n",
    "import pandas            as pd\n",
    "import seaborn           as sb\n",
    "\n",
    "from theory_code.distance_theory import TheoryCalcs\n",
    "from mock_data.mock_data_code    import MockCalcs\n",
    "\n",
    "from cobaya.run import run\n",
    "\n",
    "from itertools import product\n",
    "from copy      import deepcopy\n",
    "from time      import time\n",
    "from bios      import read\n",
    "\n",
    "from scipy.interpolate import interp1d\n",
    "from scipy.integrate   import trapz\n",
    "\n",
    "import warnings\n",
    "warnings.filterwarnings('ignore')\n",
    "\n",
    "import matplotlib\n",
    "from matplotlib import rc\n",
    "from matplotlib.pyplot import cm\n",
    "from matplotlib.colors import LogNorm\n",
    "\n",
    "rc('text', usetex=True)\n",
    "rc('font', family='serif')\n",
    "matplotlib.rcParams.update({'font.size': 18})\n",
    "\n",
    "\n",
    "sidelegend = {'bbox_to_anchor': (1.04,0.5), \n",
    "              'loc': \"center left\",\n",
    "              'frameon': False}"
   ]
  },
  {
   "cell_type": "markdown",
   "id": "4449d546",
   "metadata": {},
   "source": [
    "# Settings"
   ]
  },
  {
   "cell_type": "markdown",
   "id": "18daf5d2",
   "metadata": {},
   "source": [
    "## Theory"
   ]
  },
  {
   "cell_type": "code",
   "execution_count": null,
   "id": "29efff96-c0cf-4cce-b203-e58cb721ab51",
   "metadata": {},
   "outputs": [],
   "source": [
    "fiducial = {'H0': 68.53,\n",
    "            'omegam': 0.2948,\n",
    "            'ombh2': 0.02218,\n",
    "            'omk': 0.,\n",
    "            'epsilon0_EM': 0.1,\n",
    "            'epsilon0_GW': 0.0,\n",
    "            'mnu': 0.06,\n",
    "            'nnu': 3.,\n",
    "            'MB': -19.2435}\n",
    "\n",
    "settings = {'zmin': 0.001,\n",
    "            'zmax': 5.,\n",
    "            'Nz': 1000,\n",
    "            'zdrag': 1060,\n",
    "            'DDR_model': 'padè'}\n"
   ]
  },
  {
   "cell_type": "markdown",
   "id": "70e23da6",
   "metadata": {},
   "source": [
    "## Observables"
   ]
  },
  {
   "cell_type": "code",
<<<<<<< HEAD
   "execution_count": null,
=======
   "execution_count": 15,
>>>>>>> origin/main
   "id": "a7387208",
   "metadata": {},
   "outputs": [],
   "source": [
<<<<<<< HEAD
    "obs_settings = {#'BAO' : {'distribution': 'binned',\n",
    "                        # 'error_type' : 0.05,\n",
    "                        # 'correlation': False,\n",
    "                        # 'BAO_file_path' : './mock_data/BAOmock_pade',\n",
    "                        # 'zmin': 0.65,\n",
    "                        # 'zmax': 1.85,\n",
    "                        # 'N_bin': 14,\n",
    "                        # 'spread_data': True},\n",
    "               # 'SN' : {'distribution': 'Euclid',\n",
    "                #        'error_type' : 'LSST-like',\n",
    "                 #       'correlation': False,\n",
    "                 #       'SN_file_path' : './mock_data/SNmock_pade',\n",
    "                  #      'zmin': 0.1,\n",
    "                   #     'zmax': 1.0,\n",
    "                    #    'N_SN': 8800,\n",
    "                     #   'spread_data': True},}\n",
=======
    "obs_settings = {'BAO' : {'distribution': 'binned',\n",
    "                         'error_type' : 0.05,\n",
    "                         'correlation': False,\n",
    "                         'BAO_file_path' : './mock_data/BAOmock',\n",
    "                         'zmin': 0.65,\n",
    "                         'zmax': 1.85,\n",
    "                         'N_bin': 14,\n",
    "                         'spread_data': False,\n",
    "                         'run_settings': {'file': 'settings/BAO_LCDM.yaml',\n",
    "                                          'varpar': 'H0',\n",
    "                                          'varvec': np.linspace(62,74,100)}},\n",
    "                #'SN' : {'distribution': 'Euclid',\n",
    "                #        'error_type' : 'LSST-like',\n",
    "                #        'correlation': False,\n",
    "                #        'SN_file_path' : './mock_data/SNmock',\n",
    "                #        'zmin': 0.1,\n",
    "                #        'zmax': 1.0,\n",
    "                #        'N_SN': 8800,\n",
    "                #        'spread_data': False,\n",
    "                #         'run_settings': {'file': 'settings/SN_LCDM.yaml',\n",
    "                #                          'varpar': 'omegam',\n",
    "                #                          'varvec': np.linspace(0.1,0.5,10)}},\n",
>>>>>>> origin/main
    "               'GW' : {'distribution': 'BNS',\n",
    "                       'error_type' : 0.1,\n",
    "                       'GW_file_path' : './mock_data/GWmock_pade',\n",
    "                       'correlation': False,\n",
    "                       'zmin': 0.001,\n",
    "                       'zmax': 5.0,\n",
    "                       'N_gw': 1000,\n",
<<<<<<< HEAD
    "                       'spread_data': False}}"
=======
    "                       'spread_data': False,\n",
    "                         'run_settings': {'file': 'settings/GW_LCDM.yaml',\n",
    "                                          'varpar': 'H0',\n",
    "                                          'varvec': np.linspace(62,74,100)}}}"
>>>>>>> origin/main
   ]
  },
  {
   "cell_type": "markdown",
   "id": "d78298e2",
   "metadata": {},
   "source": [
    "# Creating mock data"
   ]
  },
  {
   "cell_type": "markdown",
   "id": "37a1adc8",
   "metadata": {},
   "source": [
    "## Getting fiducial theory"
   ]
  },
  {
   "cell_type": "code",
<<<<<<< HEAD
   "execution_count": null,
=======
   "execution_count": 16,
>>>>>>> origin/main
   "id": "5ca098d3-a545-4519-b3b4-3a0c4a2e7d66",
   "metadata": {},
   "outputs": [],
   "source": [
    "fiducial_theory = TheoryCalcs(settings,fiducial)\n",
    "zplot = np.linspace(0.01,3,100)"
   ]
  },
  {
   "cell_type": "markdown",
   "id": "0423dec0",
   "metadata": {},
   "source": [
    "## Initializing mock class"
   ]
  },
  {
   "cell_type": "code",
<<<<<<< HEAD
   "execution_count": null,
=======
   "execution_count": 17,
>>>>>>> origin/main
   "id": "fb43c3b8-bb47-45ce-8e49-d68f68d4d72e",
   "metadata": {},
   "outputs": [],
   "source": [
    "mock = MockCalcs(settings, obs_settings, fiducial, fiducial_theory)"
   ]
  },
  {
   "cell_type": "markdown",
   "id": "d29290ea",
   "metadata": {},
   "source": [
    "## BAO data\n",
    "\n",
    "**Minor problem here: the format with which BAO_data is obtained is different from the one used in the likelihood. we should make those match**\n",
    "\n",
    "**Also, DV should probably be on different redshifts than DH and DM**"
   ]
  },
  {
   "cell_type": "code",
<<<<<<< HEAD
   "execution_count": null,
=======
   "execution_count": 18,
>>>>>>> origin/main
   "id": "2f88be3b",
   "metadata": {},
   "outputs": [],
   "source": [
    "if 'BAO' in obs_settings:\n",
    "    BAO_data = mock.data_BAO"
   ]
  },
  {
   "cell_type": "code",
<<<<<<< HEAD
   "execution_count": null,
   "id": "4cc14909",
   "metadata": {},
   "outputs": [],
=======
   "execution_count": 19,
   "id": "4cc14909",
   "metadata": {},
   "outputs": [
    {
     "data": {
      "image/png": "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\n",
      "text/plain": [
       "<Figure size 1000x500 with 3 Axes>"
      ]
     },
     "metadata": {},
     "output_type": "display_data"
    }
   ],
>>>>>>> origin/main
   "source": [
    "if 'BAO' in obs_settings:\n",
    "    \n",
    "    zplot = np.linspace(min(BAO_data['z']),max(BAO_data['z']),100)\n",
    "    \n",
    "    fig, axes = plt.subplots(ncols=3, nrows=1, sharex=True,subplot_kw=dict(frameon=True),figsize=(10,5))\n",
    "    axes[0].errorbar(BAO_data['z'],BAO_data['DH'],yerr=BAO_data['err_DH'],ls='',marker='*',color='black')\n",
    "    axes[0].plot(zplot,fiducial_theory.DH(zplot))\n",
    "    axes[0].set_xlabel(r'$z$')\n",
    "    axes[0].set_ylabel(r'$D_H(z)$')\n",
    "    \n",
    "    axes[1].errorbar(BAO_data['z'],BAO_data['DM'],yerr=BAO_data['err_DM'],ls='',marker='*',color='black')\n",
    "    axes[1].plot(zplot,fiducial_theory.DM(zplot))\n",
    "    axes[1].set_xlabel(r'$z$')\n",
    "    axes[1].set_ylabel(r'$D_M(z)$')\n",
    "    \n",
    "    axes[2].errorbar(BAO_data['z'],BAO_data['DV'],yerr=BAO_data['err_DV'],ls='',marker='*',color='black')\n",
    "    axes[2].plot(zplot,fiducial_theory.DV(zplot))\n",
    "    axes[2].set_xlabel(r'$z$')\n",
    "    axes[2].set_ylabel(r'$D_V(z)$')\n",
    "    \n",
    "    plt.tight_layout();"
   ]
  },
  {
   "cell_type": "markdown",
   "id": "bf5c1425",
   "metadata": {},
   "source": [
    "## SN data"
   ]
  },
  {
   "cell_type": "code",
<<<<<<< HEAD
   "execution_count": null,
=======
   "execution_count": 20,
>>>>>>> origin/main
   "id": "4b6d079d",
   "metadata": {},
   "outputs": [],
   "source": [
    "if 'SN' in obs_settings:\n",
    "    SN_data = mock.data_SN"
   ]
  },
  {
   "cell_type": "code",
<<<<<<< HEAD
   "execution_count": null,
=======
   "execution_count": 21,
>>>>>>> origin/main
   "id": "3a15fe01",
   "metadata": {},
   "outputs": [],
   "source": [
    "if 'SN' in obs_settings:\n",
    "    \n",
    "    zplot = np.linspace(min(SN_data['z']),max(SN_data['z']),100)\n",
    "    \n",
    "    plt.figure()\n",
    "    plt.plot(zplot,fiducial_theory.mB(zplot), zorder=2)\n",
    "    plt.errorbar(SN_data['z'],SN_data['mB'],yerr=SN_data['err_mB'],ls='',marker='*',color='black', zorder=1)\n",
    "    plt.xlabel(r'$z$')\n",
    "    plt.ylabel(r'$m_B(z)$');"
   ]
  },
  {
   "cell_type": "markdown",
   "id": "d00fb7b4",
   "metadata": {},
   "source": [
    "## Standard Sirens data"
   ]
  },
  {
   "cell_type": "code",
<<<<<<< HEAD
   "execution_count": null,
=======
   "execution_count": 22,
>>>>>>> origin/main
   "id": "3f5123e5",
   "metadata": {},
   "outputs": [],
   "source": [
    "if 'GW' in obs_settings:    \n",
    "    GW_data = mock.data_GW"
   ]
  },
  {
   "cell_type": "code",
<<<<<<< HEAD
   "execution_count": null,
   "id": "89725285",
   "metadata": {},
   "outputs": [],
=======
   "execution_count": 23,
   "id": "89725285",
   "metadata": {},
   "outputs": [
    {
     "data": {
      "image/png": "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\n",
      "text/plain": [
       "<Figure size 640x480 with 1 Axes>"
      ]
     },
     "metadata": {},
     "output_type": "display_data"
    }
   ],
>>>>>>> origin/main
   "source": [
    "if 'GW' in obs_settings: \n",
    "    zplot = np.linspace(min(GW_data['z']),max(GW_data['z']),100)\n",
    "    \n",
    "    plt.figure()\n",
    "    plt.errorbar(GW_data['z'],GW_data['dL'],yerr=GW_data['err_dL'],ls='',marker='*',color='black')\n",
    "    plt.plot(zplot,fiducial_theory.DL_GW(zplot))\n",
    "    plt.xlabel(r'$z$')\n",
    "    plt.ylabel(r'$d_L^{\\rm GW}(z)$');"
   ]
  },
  {
   "cell_type": "markdown",
   "id": "a1b5fc40",
   "metadata": {},
   "source": [
    "# Grid testing in created data"
   ]
  },
  {
   "cell_type": "code",
   "execution_count": 24,
   "id": "c5472291",
   "metadata": {},
   "outputs": [
    {
     "name": "stdout",
     "output_type": "stream",
     "text": [
      "[evaluate] Initialized!\n",
      "[evaluate] Looking for a reference point with non-zero prior.\n",
      "[evaluate] Reference point:\n",
      "   H0 = 62\n",
      "[evaluate] Evaluating prior and likelihoods...\n",
      "[evaluate] log-posterior  = -26.7799\n",
      "[evaluate] log-prior      = -4.38203\n",
      "[evaluate]    logprior_0 = -4.38203\n",
      "[evaluate] log-likelihood = -22.3978\n",
      "[evaluate]    chi2_BAOLike = 44.7957\n",
      "[evaluate] Derived params:\n",
      "[evaluate]    rdrag = 155.706\n",
      "[evaluate]    omegaL = 0.703447\n",
      "[evaluate] Initialized!\n",
      "[evaluate] Looking for a reference point with non-zero prior.\n",
      "[evaluate] Reference point:\n",
      "   H0 = 62.1212\n",
      "[evaluate] Evaluating prior and likelihoods...\n",
      "[evaluate] log-posterior  = -25.8622\n",
      "[evaluate] log-prior      = -4.38203\n",
      "[evaluate]    logprior_0 = -4.38203\n",
      "[evaluate] log-likelihood = -21.4802\n",
      "[evaluate]    chi2_BAOLike = 42.9603\n",
      "[evaluate] Derived params:\n",
      "[evaluate]    rdrag = 155.567\n",
      "[evaluate]    omegaL = 0.703454\n",
      "[evaluate] Initialized!\n",
      "[evaluate] Looking for a reference point with non-zero prior.\n",
      "[evaluate] Looking for a reference point with non-zero prior.\n"
     ]
    }
   ],
   "source": [
    "from likelihood.BAO_likelihood         import BAOLike\n",
    "from likelihood.SN_likelihood          import SNLike\n",
    "from likelihood.GW_likelihood          import GWLike\n",
    "from theory_code.cobaya_theory_wrapper import CalcDist\n",
    "\n",
    "dflist = []\n",
    "\n",
    "for obs,obs_dict in obs_settings.items():\n",
    "    if 'run_settings' in obs_dict:\n",
    "        rundict = obs_dict['run_settings']\n",
    "        info = read(rundict['file'])\n",
    "        \n",
    "        info['likelihood'] = {}\n",
    "        if obs == 'BAO':\n",
    "            info['likelihood']['BAOLike'] = {'external': BAOLike,\n",
    "                                             'BAO_data_path': info['BAO_data']}\n",
    "        \n",
    "        if obs == 'SN':\n",
    "            info['likelihood']['SNLike'] =  {'external': SNLike,\n",
    "                                             'SN_data_path': info['SN_data']}\n",
    "        \n",
    "        if obs == 'GW':\n",
    "            info['likelihood']['GWLike'] =  {'external': GWLike,\n",
    "                                             'GW_data_path': info['GW_data']}\n",
    "        \n",
    "        info['theory'] = {'CalcDist': {'external': CalcDist}}\n",
    "\n",
    "        del info['output']\n",
    "        for par,par_dict in info['params'].items():\n",
    "            if par != rundict['varpar']:\n",
    "                if type(par_dict) == dict and 'prior' in par_dict:\n",
    "                    info['params'][par] = fiducial[par]\n",
    "                    \n",
    "        for val in rundict['varvec']:\n",
    "            temp = deepcopy(info)\n",
    "            temp['sampler'] = {'evaluate': {'override': {rundict['varpar']: val}}}\n",
    "            updated_info,sampler = run(temp)\n",
    "            \n",
    "            dflist.append(pd.DataFrame.from_dict({rundict['varpar']: [val],\n",
    "                                                  'loglike': [sampler.logposterior.loglike],\n",
    "                                                  'Observable': [obs]}))\n",
    "            \n",
    "test_results = pd.concat(dflist,ignore_index=True)"
   ]
  },
  {
   "cell_type": "code",
   "execution_count": 25,
   "id": "89c835dd",
   "metadata": {},
   "outputs": [],
   "source": [
    "from scipy.integrate import trapezoid\n",
    "playground = test_results.copy()\n",
    "playground['P_unnorm'] = np.exp(playground['loglike'])\n",
    "playground['chi2_norm'] = -2*playground['loglike']-min(-2*playground['loglike'])\n",
    "playground['P'] = np.exp(playground['loglike'])\n",
    "for obs in playground['Observable'].unique():\n",
    "    \n",
    "    df = playground[playground['Observable']==obs]\n",
    "    \n",
    "    x = df[obs_settings[obs]['run_settings']['varpar']]\n",
    "    y = df['P_unnorm']\n",
    "    \n",
    "    norm = trapezoid(y,x=x)\n",
    "    print(norm)\n",
    "    playground[playground['Observable']==obs]['P'] *= y/norm\n",
    "    \n",
    "print(playground)"
   ]
  },
  {
   "cell_type": "code",
   "execution_count": 26,
   "id": "fc333ef7",
   "metadata": {},
   "outputs": [],
   "source": [
    "plt.figure()\n",
    "sb.lineplot(playground,x=playground.columns[0],y='P',hue='Observable')\n",
    "plt.axvline(x=fiducial[playground.columns[0]],ls=':',color='black');\n",
    "\n",
    "plt.figure()\n",
    "sb.lineplot(playground,x=playground.columns[0],y='chi2_norm',hue='Observable')\n",
    "plt.axvline(x=fiducial[playground.columns[0]],ls=':',color='black');"
   ]
  },
  {
   "cell_type": "code",
   "execution_count": null,
   "id": "df854b7b",
   "metadata": {},
   "outputs": [],
   "source": []
  },
  {
   "cell_type": "code",
   "execution_count": null,
   "id": "2b59e5da",
   "metadata": {},
   "outputs": [],
   "source": []
  }
 ],
 "metadata": {
  "kernelspec": {
   "display_name": "Python 3 (ipykernel)",
   "language": "python",
   "name": "python3"
  },
  "language_info": {
   "codemirror_mode": {
    "name": "ipython",
    "version": 3
   },
   "file_extension": ".py",
   "mimetype": "text/x-python",
   "name": "python",
   "nbconvert_exporter": "python",
   "pygments_lexer": "ipython3",
   "version": "3.9.6"
  }
 },
 "nbformat": 4,
 "nbformat_minor": 5
}
