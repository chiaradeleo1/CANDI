{
 "cells": [
  {
   "cell_type": "code",
   "execution_count": null,
   "id": "db8d508d-2882-4a65-bea4-83b4a064a853",
   "metadata": {},
   "outputs": [],
   "source": [
    "import sys,os,re\n",
    "import numpy             as np\n",
    "import matplotlib.pyplot as plt\n",
    "import pandas            as pd\n",
    "import seaborn           as sb\n",
    "\n",
    "from theory_code.distance_theory import TheoryCalcs\n",
    "from mock_data.mock_data_code    import MockCalcs\n",
    "\n",
    "from cobaya.run import run\n",
    "\n",
    "from itertools import product\n",
    "from copy      import deepcopy\n",
    "from time      import time\n",
    "from bios      import read\n",
    "\n",
    "from scipy.interpolate import interp1d\n",
    "from scipy.integrate   import trapz\n",
    "\n",
    "import warnings\n",
    "warnings.filterwarnings('ignore')\n",
    "\n",
    "import matplotlib\n",
    "from matplotlib import rc\n",
    "from matplotlib.pyplot import cm\n",
    "from matplotlib.colors import LogNorm\n",
    "\n",
    "rc('text', usetex=True)\n",
    "rc('font', family='serif')\n",
    "matplotlib.rcParams.update({'font.size': 18})\n",
    "\n",
    "\n",
    "sidelegend = {'bbox_to_anchor': (1.04,0.5), \n",
    "              'loc': \"center left\",\n",
    "              'frameon': False}"
   ]
  },
  {
   "cell_type": "markdown",
   "id": "4449d546",
   "metadata": {},
   "source": [
    "# Settings"
   ]
  },
  {
   "cell_type": "markdown",
   "id": "18daf5d2",
   "metadata": {},
   "source": [
    "## Theory"
   ]
  },
  {
   "cell_type": "code",
   "execution_count": null,
   "id": "29efff96-c0cf-4cce-b203-e58cb721ab51",
   "metadata": {},
   "outputs": [],
   "source": [
    "fiducial = {'H0': 68.53,\n",
    "            'omegam': 0.2948,\n",
    "            'ombh2': 0.02218,\n",
    "            'omk': 0.,\n",
    "            'epsilon0_EM': 0.,\n",
    "            'epsilon0_GW': 0.,\n",
    "            'mnu': 0.06,\n",
    "            'nnu': 3.,\n",
    "            'MB': -19.2435}\n",
    "\n",
    "settings = {'zmin': 0.001,\n",
    "            'zmax': 5.,\n",
    "            'Nz': 1000,\n",
    "            'zdrag': 1060,\n",
    "            'DDR_model': {'epsilon_model': 'constant',\n",
    "                          'pade': False}}\n"
   ]
  },
  {
   "cell_type": "markdown",
   "id": "70e23da6",
   "metadata": {},
   "source": [
    "## Observables"
   ]
  },
  {
   "cell_type": "code",
   "execution_count": null,
   "id": "a7387208",
   "metadata": {},
   "outputs": [],
   "source": [
    "obs_settings = {'BAO' : {'distribution': 'binned',\n",
    "                         'error_type' : 0.05,\n",
    "                         'correlation': False,\n",
    "                         'BAO_file_path' : './mock_data/BAOmock',\n",
    "                         'zmin': 0.65,\n",
    "                         'zmax': 1.85,\n",
    "                         'N_bin': 14,\n",
    "                         #'run_settings': {'file': 'settings/BAO_LCDM.yaml',\n",
    "                         #                 'varpar': 'H0',\n",
    "                         #                 'varvec': np.linspace(62,74,100)}\n",
    "                        },\n",
    "                'SN' : {'distribution': 'Euclid',\n",
    "                        'error_type' : 'LSST-like',\n",
    "                        'correlation': False,\n",
    "                        'SN_file_path' : './mock_data/SNmock',\n",
    "                        'zmin': 0.1,\n",
    "                        'zmax': 1.0,\n",
    "                        'N_SN': 8800,\n",
    "                        #'run_settings': {'file': 'settings/SN_LCDM.yaml',\n",
    "                        #                 'varpar': 'omegam',\n",
    "                        #                 'varvec': np.linspace(0.1,0.5,10)}\n",
    "                       },\n",
    "               'GW' : {'distribution': 'BNS',\n",
    "                       'error_type' : 0.1,\n",
    "                       'GW_file_path' : './mock_data/GWmock',\n",
    "                       'correlation': False,\n",
    "                       'zmin': 0.001,\n",
    "                       'zmax': 5.0,\n",
    "                       'N_gw': 1000,\n",
    "                       #'run_settings': {'file': 'settings/GW_LCDM.yaml',\n",
    "                       #                 'varpar': 'H0',\n",
    "                       #                 'varvec': np.linspace(62,74,100)}\n",
    "                      }\n",
    "               }\n",
    "\n",
    "obs_settings['BAO']['BAO_file_path'] += '_epsilon_'+settings['DDR_model']['epsilon_model'] \n",
    "obs_settings['SN']['SN_file_path'] += '_epsilon_'+settings['DDR_model']['epsilon_model'] \n",
    "obs_settings['GW']['GW_file_path'] += '_epsilon_'+settings['DDR_model']['epsilon_model'] \n"
   ]
  },
  {
   "cell_type": "markdown",
   "id": "d78298e2",
   "metadata": {},
   "source": [
    "# Creating mock data"
   ]
  },
  {
   "cell_type": "markdown",
   "id": "37a1adc8",
   "metadata": {},
   "source": [
    "## Getting fiducial theory"
   ]
  },
  {
   "cell_type": "code",
   "execution_count": null,
   "id": "5ca098d3-a545-4519-b3b4-3a0c4a2e7d66",
   "metadata": {},
   "outputs": [],
   "source": [
    "fiducial_theory = TheoryCalcs(settings,fiducial)\n",
    "zplot = np.linspace(0.01,3,100)"
   ]
  },
  {
   "cell_type": "markdown",
   "id": "0423dec0",
   "metadata": {},
   "source": [
    "## Initializing mock class"
   ]
  },
  {
   "cell_type": "code",
   "execution_count": null,
   "id": "fb43c3b8-bb47-45ce-8e49-d68f68d4d72e",
   "metadata": {},
   "outputs": [],
   "source": [
    "mock = MockCalcs(settings, obs_settings, fiducial, fiducial_theory)"
   ]
  },
  {
   "cell_type": "markdown",
   "id": "d29290ea",
   "metadata": {},
   "source": [
    "## BAO data\n",
    "\n",
    "**Minor problem here: the format with which BAO_data is obtained is different from the one used in the likelihood. we should make those match**\n",
    "\n",
    "**Also, DV should probably be on different redshifts than DH and DM**"
   ]
  },
  {
   "cell_type": "code",
   "execution_count": null,
   "id": "2f88be3b",
   "metadata": {},
   "outputs": [],
   "source": [
    "if 'BAO' in obs_settings:\n",
    "    BAO_data = mock.data_BAO"
   ]
  },
  {
   "cell_type": "code",
   "execution_count": null,
   "id": "4cc14909",
   "metadata": {},
   "outputs": [],
   "source": [
    "if 'BAO' in obs_settings:\n",
    "    \n",
    "    zplot = np.linspace(min(BAO_data['z']),max(BAO_data['z']),100)\n",
    "    \n",
    "    fig, axes = plt.subplots(ncols=3, nrows=1, sharex=True,subplot_kw=dict(frameon=True),figsize=(10,5))\n",
    "    axes[0].errorbar(BAO_data['z'],BAO_data['DH'],yerr=BAO_data['err_DH'],ls='',marker='*',color='black')\n",
    "    axes[0].plot(zplot,fiducial_theory.DH(zplot))\n",
    "    axes[0].set_xlabel(r'$z$')\n",
    "    axes[0].set_ylabel(r'$D_H(z)$')\n",
    "    \n",
    "    axes[1].errorbar(BAO_data['z'],BAO_data['DM'],yerr=BAO_data['err_DM'],ls='',marker='*',color='black')\n",
    "    axes[1].plot(zplot,fiducial_theory.DM(zplot))\n",
    "    axes[1].set_xlabel(r'$z$')\n",
    "    axes[1].set_ylabel(r'$D_M(z)$')\n",
    "    \n",
    "    axes[2].errorbar(BAO_data['z'],BAO_data['DV'],yerr=BAO_data['err_DV'],ls='',marker='*',color='black')\n",
    "    axes[2].plot(zplot,fiducial_theory.DV(zplot))\n",
    "    axes[2].set_xlabel(r'$z$')\n",
    "    axes[2].set_ylabel(r'$D_V(z)$')\n",
    "    \n",
    "    plt.tight_layout();"
   ]
  },
  {
   "cell_type": "markdown",
   "id": "bf5c1425",
   "metadata": {},
   "source": [
    "## SN data"
   ]
  },
  {
   "cell_type": "code",
   "execution_count": null,
   "id": "4b6d079d",
   "metadata": {},
   "outputs": [],
   "source": [
    "if 'SN' in obs_settings:\n",
    "    SN_data = deepcopy(mock.data_SN)\n",
    "    weird = []\n",
    "    for z,val,err in zip(SN_data['z'],SN_data['mB'],SN_data['err_mB']):\n",
    "        if val<fiducial_theory.mB(z)+2*err and val>fiducial_theory.mB(z)-2*err:\n",
    "            weird.append('No')\n",
    "        else:\n",
    "            weird.append('Yes')\n",
    "    SN_data['Weird'] = weird\n",
    "    \n",
    "    SNdf = pd.DataFrame.from_dict(SN_data)"
   ]
  },
  {
   "cell_type": "code",
   "execution_count": null,
   "id": "3a15fe01",
   "metadata": {},
   "outputs": [],
   "source": [
    "if 'SN' in obs_settings:\n",
    "    print('Weird points are {}%'.format(100*(len(SNdf[SNdf['Weird']=='Yes']))/len(SNdf)))\n",
    "    zplot = np.linspace(min(SN_data['z']),max(SN_data['z']),100)\n",
    "    \n",
    "    plt.figure()\n",
    "    plt.errorbar(SN_data['z'],SN_data['mB'],yerr=SN_data['err_mB'],ls='',marker='',color='black')\n",
    "    sb.scatterplot(SNdf,x='z',y='mB',hue='Weird')\n",
    "    plt.plot(zplot,fiducial_theory.mB(zplot))\n",
    "    plt.xlabel(r'$z$')\n",
    "    plt.ylabel(r'$m_B(z)$');"
   ]
  },
  {
   "cell_type": "markdown",
   "id": "d00fb7b4",
   "metadata": {},
   "source": [
    "## Standard Sirens data"
   ]
  },
  {
   "cell_type": "code",
   "execution_count": null,
   "id": "3f5123e5",
   "metadata": {},
   "outputs": [],
   "source": [
    "if 'GW' in obs_settings:    \n",
    "    GW_data = deepcopy(mock.data_GW)\n",
    "    weird = []\n",
    "    for z,val,err in zip(GW_data['z'],GW_data['dL'],GW_data['err_dL']):\n",
    "        if val<fiducial_theory.DL_GW(z)+2*err and val>fiducial_theory.DL_GW(z)-2*err:\n",
    "            weird.append('No')\n",
    "        else:\n",
    "            weird.append('Yes')\n",
    "    GW_data['Weird'] = weird\n",
    "    GWdf = pd.DataFrame.from_dict(GW_data)"
   ]
  },
  {
   "cell_type": "code",
   "execution_count": null,
   "id": "89725285",
   "metadata": {},
   "outputs": [],
   "source": [
    "if 'GW' in obs_settings: \n",
    "    print('Weird points are {}%'.format(100*len(GWdf[GWdf['Weird']=='Yes'])/len(GWdf)))\n",
    "    zplot = np.linspace(min(GW_data['z']),max(GW_data['z']),100)\n",
    "    \n",
    "    plt.figure()\n",
    "    plt.errorbar(GWdf['z'],GWdf['dL'],yerr=GWdf['err_dL'],ls='',marker='',color='black')\n",
    "    sb.scatterplot(GWdf,x='z',y='dL',hue='Weird')\n",
    "    plt.plot(zplot,fiducial_theory.DL_GW(zplot))\n",
    "    plt.xlabel(r'$z$')\n",
    "    plt.ylabel(r'$d_L^{\\rm GW}(z)$');"
   ]
  },
  {
   "cell_type": "markdown",
   "id": "a1b5fc40",
   "metadata": {},
   "source": [
    "# Grid testing in created data"
   ]
  },
  {
   "cell_type": "code",
   "execution_count": null,
   "id": "c5472291",
   "metadata": {},
   "outputs": [],
   "source": [
    "from likelihood.BAO_likelihood         import BAOLike\n",
    "from likelihood.SN_likelihood          import SNLike\n",
    "from likelihood.GW_likelihood          import GWLike\n",
    "from theory_code.cobaya_theory_wrapper import CalcDist\n",
    "\n",
    "dflist = []\n",
    "\n",
    "for obs,obs_dict in obs_settings.items():\n",
    "    if 'run_settings' in obs_dict:\n",
    "        rundict = obs_dict['run_settings']\n",
    "        info = read(rundict['file'])\n",
    "        \n",
    "        info['likelihood'] = {}\n",
    "        if obs == 'BAO':\n",
    "            info['likelihood']['BAOLike'] = {'external': BAOLike,\n",
    "                                             'BAO_data_path': info['BAO_data']}\n",
    "        \n",
    "        if obs == 'SN':\n",
    "            info['likelihood']['SNLike'] =  {'external': SNLike,\n",
    "                                             'SN_data_path': info['SN_data']}\n",
    "        \n",
    "        if obs == 'GW':\n",
    "            info['likelihood']['GWLike'] =  {'external': GWLike,\n",
    "                                             'GW_data_path': info['GW_data']}\n",
    "        \n",
    "        info['theory'] = {'CalcDist': {'external': CalcDist}}\n",
    "\n",
    "        del info['output']\n",
    "        for par,par_dict in info['params'].items():\n",
    "            if par != rundict['varpar']:\n",
    "                if type(par_dict) == dict and 'prior' in par_dict:\n",
    "                    info['params'][par] = fiducial[par]\n",
    "                    \n",
    "        for val in rundict['varvec']:\n",
    "            temp = deepcopy(info)\n",
    "            temp['sampler'] = {'evaluate': {'override': {rundict['varpar']: val}}}\n",
    "            updated_info,sampler = run(temp)\n",
    "            \n",
    "            dflist.append(pd.DataFrame.from_dict({rundict['varpar']: [val],\n",
    "                                                  'loglike': [sampler.logposterior.loglike],\n",
    "                                                  'Observable': [obs]}))\n",
    "            \n",
    "test_results = pd.concat(dflist,ignore_index=True)"
   ]
  },
  {
   "cell_type": "code",
   "execution_count": null,
   "id": "89c835dd",
   "metadata": {},
   "outputs": [],
   "source": [
    "from scipy.integrate import trapezoid\n",
    "playground = test_results.copy()\n",
    "playground['P_unnorm'] = np.exp(playground['loglike'])\n",
    "playground['chi2_norm'] = -2*playground['loglike']-min(-2*playground['loglike'])\n",
    "playground['P'] = np.exp(playground['loglike'])\n",
    "for obs in playground['Observable'].unique():\n",
    "    \n",
    "    df = playground[playground['Observable']==obs]\n",
    "    \n",
    "    x = df[obs_settings[obs]['run_settings']['varpar']]\n",
    "    y = df['P_unnorm']\n",
    "    \n",
    "    norm = trapezoid(y,x=x)\n",
    "    print(norm)\n",
    "    playground[playground['Observable']==obs]['P'] *= y/norm\n",
    "    \n",
    "print(playground)"
   ]
  },
  {
   "cell_type": "code",
   "execution_count": null,
   "id": "fc333ef7",
   "metadata": {},
   "outputs": [],
   "source": [
    "plt.figure()\n",
    "sb.lineplot(playground,x=playground.columns[0],y='P',hue='Observable')\n",
    "plt.axvline(x=fiducial[playground.columns[0]],ls=':',color='black');\n",
    "\n",
    "plt.figure()\n",
    "sb.lineplot(playground,x=playground.columns[0],y='chi2_norm',hue='Observable')\n",
    "plt.axvline(x=fiducial[playground.columns[0]],ls=':',color='black');"
   ]
  },
  {
   "cell_type": "code",
   "execution_count": null,
   "id": "df854b7b",
   "metadata": {},
   "outputs": [],
   "source": []
  },
  {
   "cell_type": "code",
   "execution_count": null,
   "id": "2b59e5da",
   "metadata": {},
   "outputs": [],
   "source": []
  }
 ],
 "metadata": {
  "kernelspec": {
   "display_name": "Python 3 (ipykernel)",
   "language": "python",
   "name": "python3"
  },
  "language_info": {
   "codemirror_mode": {
    "name": "ipython",
    "version": 3
   },
   "file_extension": ".py",
   "mimetype": "text/x-python",
   "name": "python",
   "nbconvert_exporter": "python",
   "pygments_lexer": "ipython3",
   "version": "3.9.18"
  }
 },
 "nbformat": 4,
 "nbformat_minor": 5
}
