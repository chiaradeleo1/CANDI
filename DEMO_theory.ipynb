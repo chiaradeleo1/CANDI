{
 "cells": [
  {
   "cell_type": "markdown",
   "id": "3cff7339-40ed-4f1d-972d-a1d2ee029f83",
   "metadata": {},
   "source": [
    "# DEMO theory\n",
    "\n",
    "This notebook is a walkthrough of the theory code"
   ]
  },
  {
   "cell_type": "code",
   "execution_count": 1,
   "id": "20ef0e29-9efb-4073-bd21-30e56a18b6ac",
   "metadata": {},
   "outputs": [],
   "source": [
    "import numpy   as np\n",
    "import pandas  as pd\n",
    "import seaborn as sb\n",
    "\n",
    "from copy      import deepcopy\n",
    "from itertools import product\n",
    "\n",
    "from theory_code.distance_theory import TheoryCalcs\n",
    "\n",
    "#Plotting\n",
    "import matplotlib\n",
    "import matplotlib.pyplot as plt\n",
    "\n",
    "from matplotlib import rc\n",
    "\n",
    "rc('text', usetex=True)\n",
    "rc('font', family='serif')\n",
    "matplotlib.rcParams.update({'font.size': 18})\n",
    "\n",
    "red    = '#8e001c'\n",
    "yellow = '#ffb302'\n",
    "\n",
    "sidelegend = {'bbox_to_anchor': (1.04,0.5), \n",
    "              'loc': \"center left\",\n",
    "              'frameon': False}\n",
    "bottomlegend = {'bbox_to_anchor': (0.35,-0.2), \n",
    "                'loc': \"center left\",\n",
    "                'frameon': False,\n",
    "                'ncols': 3}"
   ]
  },
  {
   "cell_type": "markdown",
   "id": "77389dff-1d7e-45af-b93a-b98280a68026",
   "metadata": {},
   "source": [
    "# Basic cosmology run\n",
    "\n",
    "This part of the DEMO shows how to get the basic cosmological quantities, with the possibility of including custom cosmological models"
   ]
  },
  {
   "cell_type": "markdown",
   "id": "ae6b5755-57a4-42c4-89e8-8649de11d519",
   "metadata": {},
   "source": [
    "## Computational settings\n",
    "\n",
    "The theory code needs some computational settings to decide the range in redshift where things are computed"
   ]
  },
  {
   "cell_type": "code",
   "execution_count": 2,
   "id": "3dce6053-0015-4eb2-b13d-5918890974d6",
   "metadata": {},
   "outputs": [],
   "source": [
    "settings = {'zmin': 0.001,\n",
    "            'zmax': 1000.,\n",
    "            'Nz': 10000}"
   ]
  },
  {
   "cell_type": "markdown",
   "id": "d126ad50-186c-48b8-8efb-28f82936e80a",
   "metadata": {},
   "source": [
    "## Cosmology\n",
    "\n",
    "This set of parameters computes the basic cosmological ingredients (distances, Hubble parameter, etc...)\n",
    "\n",
    "This can be done in different ways:\n",
    "\n",
    "- **Standard:** standard CAMB calculations\n",
    "- **Custom:** placeholder for custom cosmology\n",
    "\n",
    "This is specified by the cosmology key passed in the parameters dictionary."
   ]
  },
  {
   "cell_type": "markdown",
   "id": "96f2f37b-7924-429e-ae08-4c3580ba4ad2",
   "metadata": {},
   "source": [
    "### Standard cosmology\n",
    "\n",
    "For standard cosmology, the code relies on CAMB and accepts as input the parameters known by this code.\n",
    "We use the Planck 2018 best fit as a fiducial"
   ]
  },
  {
   "cell_type": "code",
   "execution_count": 3,
   "id": "900328a2-c4ff-44bb-a5b2-b875cd86cb27",
   "metadata": {},
   "outputs": [],
   "source": [
    "standard_params = {'cosmology': 'Standard',\n",
    "                   'parameters':{'H0': 67.36,\n",
    "                                 'omch2': 0.1200,\n",
    "                                 'ombh2': 0.02237,\n",
    "                                 'omk': 0.,\n",
    "                                 'mnu': 0.06,\n",
    "                                 'nnu': 3.}}"
   ]
  },
  {
   "cell_type": "markdown",
   "id": "547e183e-f176-402f-96f3-c5852069080a",
   "metadata": {},
   "source": [
    "### Custom cosmology\n",
    "\n",
    "This is a placeholder for a possible modified cosmology. The expansion is computed by a custom function (`call_custom` in distance_theory.py)\n",
    "\n",
    "In this placeholder we work with a toy model where the evolution of the matter density is modified w.r.t. to $\\Lambda$CDM\n",
    "\n",
    "$$\n",
    "\\rho_m(z) = \\rho_m^0\\,(1+z)^{3+\\Delta}\n",
    "$$"
   ]
  },
  {
   "cell_type": "code",
   "execution_count": 14,
   "id": "5f3ff7b0-6e80-409b-8e3c-7912ce629cf9",
   "metadata": {},
   "outputs": [],
   "source": [
    "custom_params = {'cosmology': 'Custom',\n",
    "                 'parameters': {'H0': 67.36,\n",
    "                                'omegam': 0.3153,\n",
    "                                'Delta': -0.01}}"
   ]
  },
  {
   "cell_type": "markdown",
   "id": "48a7d8ae-402c-41a3-9814-7435d908e676",
   "metadata": {},
   "source": [
    "### Supernova magnitude model\n",
    "\n",
    "The code outputs also the apparent magnitude of supernovae as a function of redshift.\n",
    "This rquires passing a model for the absolute magnitude $M_B$.\n",
    "\n",
    "Currently, only a constant model is available (but stay tuned)"
   ]
  },
  {
   "cell_type": "code",
   "execution_count": 15,
   "id": "9c7ad51e-dd4d-47a9-95fb-35e4e62454ab",
   "metadata": {},
   "outputs": [],
   "source": [
    "SNmodel = {'model': 'constant',\n",
    "           'MB': -19.2435}"
   ]
  },
  {
   "cell_type": "markdown",
   "id": "9f13700d-7d90-4d50-a9ee-c8ccd867e248",
   "metadata": {},
   "source": [
    "## Running the code"
   ]
  },
  {
   "cell_type": "code",
   "execution_count": 16,
   "id": "d9886b1d-eb37-4f45-bd7e-110b596dc721",
   "metadata": {},
   "outputs": [
    {
     "name": "stdout",
     "output_type": "stream",
     "text": [
      "Running standard CAMB...\n",
      "CAMB done in 1.11 s\n",
      "Running custom cosmology...\n",
      "Custom cosmology done in 0.51 s\n"
     ]
    },
    {
     "name": "stderr",
     "output_type": "stream",
     "text": [
      "/home/Matteo/Projects/GW_projects/DDR/theory_code/distance_theory.py:155: RuntimeWarning: divide by zero encountered in log10\n",
      "  mB = interp1d(self.zcalc,5*np.log10(dL(self.zcalc))+MB(self.zcalc)+25,kind='linear')\n"
     ]
    }
   ],
   "source": [
    "standard_results = TheoryCalcs(settings,standard_params,SNmodel,feedback=True)\n",
    "custom_results   = TheoryCalcs(settings,custom_params,SNmodel,feedback=True)"
   ]
  },
  {
   "cell_type": "markdown",
   "id": "49f25a95-9a2a-474f-a378-f1f1818e46e7",
   "metadata": {},
   "source": [
    "### Output\n",
    "\n",
    "The output of the theory code is a set of cosmological quantities, returned as attributes of the class\n",
    "\n",
    "- H_Mpc: $H(z)$ in Mpc$^{-1}$\n",
    "- H_kmsMpc: $H(z)$ in Km s$^{-1}$ Mpc$^{-1}$\n",
    "- DM: $D_M=d_C(z)$ (add curvature here)\n",
    "- DH: $D_H=1/H(z)$\n",
    "- DV: $D_V=(z\\,d_C^2(z)/H(z))^{1/3}$\n",
    "- dA: $d_A(z)=d_C/(1+z)$\n",
    "- DL_EM: luminosity distance for EM sources\n",
    "- DL_GW: luminosity distance for gravitational sources\n",
    "- comoving: $d_C$\n",
    "- rdrag: $r_d$ sound horizon at the drag epoch\n",
    "- omegaL: current value of the dark energy density\n",
    "- mB: apparent magnitude of SN"
   ]
  },
  {
   "cell_type": "code",
   "execution_count": 17,
   "id": "6c2eda77-ebfe-42cc-8b7d-d51b60c0040a",
   "metadata": {},
   "outputs": [
    {
     "data": {
      "image/png": "[encoded data removed]",
      "text/plain": [
       "<Figure size 640x480 with 1 Axes>"
      ]
     },
     "metadata": {},
     "output_type": "display_data"
    }
   ],
   "source": [
    "zplot = np.linspace(0.01,2,100)\n",
    "\n",
    "std_df = pd.DataFrame({'z': zplot,\n",
    "                       r'$d_C(z)$': standard_results.comoving(zplot),\n",
    "                       r'$d_L(z)$': standard_results.DL_EM(zplot),\n",
    "                       r'$d_A(z)$': standard_results.dA(zplot),\n",
    "                       'Cosmology': 'Standard'})\n",
    "\n",
    "std_df = pd.melt(std_df,id_vars=['z','Cosmology'],value_vars=[r'$d_C(z)$',r'$d_L(z)$',r'$d_A(z)$'],var_name='Function',value_name='value')\n",
    "\n",
    "cus_df = pd.DataFrame({'z': zplot,\n",
    "                       r'$d_C(z)$': custom_results.comoving(zplot),\n",
    "                       r'$d_L(z)$': custom_results.DL_EM(zplot),\n",
    "                       r'$d_A(z)$': custom_results.dA(zplot),\n",
    "                       'Cosmology': 'Custom'})\n",
    "\n",
    "cus_df = pd.melt(cus_df,id_vars=['z','Cosmology'],value_vars=[r'$d_C(z)$',r'$d_L(z)$',r'$d_A(z)$'],var_name='Function',value_name='value')\n",
    "\n",
    "results = pd.concat([std_df,cus_df],ignore_index=True)\n",
    "\n",
    "plt.figure()\n",
    "sb.lineplot(results,x='z',y='value',hue='Function',style='Cosmology')\n",
    "plt.xlabel(r'$z$')\n",
    "plt.ylabel('Function value [Mpc]')\n",
    "plt.legend(**sidelegend);"
   ]
  },
  {
   "cell_type": "markdown",
   "id": "60fcd2a3-846c-44b3-b6af-8bdc8f2c0a50",
   "metadata": {},
   "source": [
    "# Distance Duality Relation\n",
    "\n",
    "The code allows to account for deviations from the standard DDR by computing the function\n",
    "\n",
    "$$\n",
    "\\eta(z)=\\frac{d_L(z)}{(1+z)^2d_A(z)}\n",
    "$$\n",
    "\n",
    "The parameters controlling this effect are passed through a `DDR` key in the parameters dictionary. If such a key does not exist, the code assumes standard DDR.\n",
    "\n",
    "The parameterization for this function is:\n",
    "\n",
    "$$\n",
    "\\eta(z) = (1+a\\,z^n)^\\epsilon\n",
    "$$\n",
    "\n",
    "This function will be used to compute the luminosity distance as\n",
    "\n",
    "$$\n",
    "d_L(z) =\\eta(z)\\,(1+z)^2\\,d_A(z)\n",
    "$$\n",
    "\n",
    "with $d_A$ computed as above."
   ]
  },
  {
   "cell_type": "code",
   "execution_count": null,
   "id": "3a65362c-63d8-43b5-b9b4-423f8ce0193e",
   "metadata": {},
   "outputs": [],
   "source": []
  }
 ],
 "metadata": {
  "kernelspec": {
   "display_name": "Python 3 (ipykernel)",
   "language": "python",
   "name": "python3"
  },
  "language_info": {
   "codemirror_mode": {
    "name": "ipython",
    "version": 3
   },
   "file_extension": ".py",
   "mimetype": "text/x-python",
   "name": "python",
   "nbconvert_exporter": "python",
   "pygments_lexer": "ipython3",
   "version": "3.9.15"
  }
 },
 "nbformat": 4,
 "nbformat_minor": 5
}
