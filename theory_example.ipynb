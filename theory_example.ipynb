{
 "cells": [
  {
   "cell_type": "markdown",
   "id": "e4ee31e6",
   "metadata": {},
   "source": [
    "# Notebook to be improved with more stuff"
   ]
  },
  {
   "cell_type": "code",
   "execution_count": null,
   "id": "281e3da8",
   "metadata": {},
   "outputs": [],
   "source": [
    "#General\n",
    "import re\n",
    "import sys\n",
    "import pprint\n",
    "import seaborn as sb\n",
    "import numpy   as np\n",
    "import pandas  as pd\n",
    "import random  as rnd\n",
    "\n",
    "from bios    import read\n",
    "from copy    import deepcopy\n",
    "from time    import time\n",
    "from tqdm    import tqdm\n",
    "\n",
    "from theory_code.distance_theory import TheoryCalcs\n",
    "\n",
    "#Plotting\n",
    "import matplotlib\n",
    "import matplotlib.pyplot as plt\n",
    "\n",
    "from matplotlib import rc\n",
    "\n",
    "rc('text', usetex=True)\n",
    "rc('font', family='serif')\n",
    "matplotlib.rcParams.update({'font.size': 18})\n",
    "\n",
    "red    = '#8e001c'\n",
    "yellow = '#ffb302'\n",
    "\n",
    "sidelegend = {'bbox_to_anchor': (1.04,0.5), \n",
    "              'loc': \"center left\",\n",
    "              'frameon': False}\n",
    "bottomlegend = {'bbox_to_anchor': (0.35,-0.2), \n",
    "                'loc': \"center left\",\n",
    "                'frameon': False,\n",
    "                'ncols': 3}"
   ]
  },
  {
   "cell_type": "markdown",
   "id": "ba9d02bc",
   "metadata": {},
   "source": [
    "# Settings"
   ]
  },
  {
   "cell_type": "code",
   "execution_count": null,
   "id": "b3d30be6",
   "metadata": {},
   "outputs": [],
   "source": [
    "fiducial = {'H0': 68.53,\n",
    "            'omegam': 0.2948,\n",
    "            'ombh2': 0.02218,\n",
    "            'epsilon0_EM': 0.1,\n",
    "            'epsilon0_GW': -0.1,\n",
    "            'omk': 0.,\n",
    "            'mnu': 0.06,\n",
    "            'nnu': 3.,\n",
    "            'MB': -19.2435}\n",
    "\n",
    "settings = {'zmin': 0.001,\n",
    "            'zmax': 5.,\n",
    "            'Nz': 1000,\n",
    "            'zdrag': 1060,\n",
    "            'DDR_model': 'constant',\n",
    "            'm1': 1.4,\n",
    "            'm2': 1.4}\n",
    "\n",
    "SN_data_path  = './data/Pantheon'\n",
    "BAO_data_path = './data/DESI'\n",
    "GW_data_path  = './mock_data/ET'\n",
    "\n",
    "zplot = np.linspace(0.01,3,100)"
   ]
  },
  {
   "cell_type": "markdown",
   "id": "14dd3259",
   "metadata": {},
   "source": [
    "# Get theory"
   ]
  },
  {
   "cell_type": "code",
   "execution_count": null,
   "id": "9abe8d1c",
   "metadata": {},
   "outputs": [],
   "source": [
    "theory = TheoryCalcs(settings,fiducial)"
   ]
  },
  {
   "cell_type": "code",
   "execution_count": null,
   "id": "c26b8322",
   "metadata": {},
   "outputs": [],
   "source": [
    "plt.figure()\n",
    "plt.plot(zplot,theory.DL_EM(zplot),label='Electromagnetic',color=yellow,lw=3)\n",
    "plt.plot(zplot,theory.DL_GW(zplot),label='Gravitational',color='purple',ls=':',lw=3)\n",
    "plt.xlabel(r'$z$')\n",
    "plt.ylabel(r'$d_L(z)$ [Mpc]')\n",
    "plt.legend(**sidelegend);\n",
    "\n",
    "plt.figure()\n",
    "plt.plot(zplot,theory.eta_EM(zplot),label='Electromagnetic',color=yellow,lw=3)\n",
    "plt.plot(zplot,theory.eta_GW(zplot),label='Gravitational',color='purple',ls=':',lw=3)\n",
    "plt.xlabel(r'$z$')\n",
    "plt.ylabel(r'$\\eta(z)$ [Mpc]')\n",
    "plt.legend(**sidelegend);"
   ]
  },
  {
   "cell_type": "code",
   "execution_count": null,
   "id": "7b0b0739",
   "metadata": {},
   "outputs": [],
   "source": [
    "fiducial2 = {'H0': 68.53,\n",
    "            'omegam': 0.2948,\n",
    "            'ombh2': 0.02218,\n",
    "            'epsilon0_EM': 0.25,\n",
    "            'epsilon0_GW': 0.25,\n",
    "            'omk': 0.,\n",
    "            'mnu': 0.06,\n",
    "            'nnu': 3.,\n",
    "             \n",
    "            'MB': -19.2435}\n",
    "theory2 = TheoryCalcs(settings,fiducial2)"
   ]
  },
  {
   "cell_type": "code",
   "execution_count": null,
   "id": "81f423c2",
   "metadata": {},
   "outputs": [],
   "source": [
    "plt.figure()\n",
    "plt.plot(zplot,theory2.DL_GW(zplot),label='Gravitational epsilon=0.25',color=yellow,lw=3)\n",
    "plt.plot(zplot,theory.DL_GW(zplot),label='Gravitational epsilon=-0.1',color='purple',ls=':',lw=3)\n",
    "plt.xlabel(r'$z$')\n",
    "plt.ylabel(r'$d_L(z)$ [Mpc]')\n",
    "plt.legend(**sidelegend);\n",
    "\n",
    "plt.figure()\n",
    "plt.plot(zplot,theory2.eta_GW(zplot),label='Gravitational epsilon=0.25',color=yellow,lw=3)\n",
    "plt.plot(zplot,theory.eta_GW(zplot),label='Gravitational epsilon=-0.1',color='purple',ls=':',lw=3)\n",
    "plt.xlabel(r'$z$')\n",
    "plt.ylabel(r'$\\eta(z)$ [Mpc]')\n",
    "plt.legend(**sidelegend);"
   ]
  }
 ],
 "metadata": {
  "kernelspec": {
   "display_name": "Python 3 (ipykernel)",
   "language": "python",
   "name": "python3"
  },
  "language_info": {
   "codemirror_mode": {
    "name": "ipython",
    "version": 3
   },
   "file_extension": ".py",
   "mimetype": "text/x-python",
   "name": "python",
   "nbconvert_exporter": "python",
   "pygments_lexer": "ipython3",
   "version": "3.9.6"
  }
 },
 "nbformat": 4,
 "nbformat_minor": 5
}
