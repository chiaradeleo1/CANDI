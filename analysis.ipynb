{
 "cells": [
  {
   "cell_type": "code",
   "execution_count": null,
   "id": "0e74609b",
   "metadata": {},
   "outputs": [],
   "source": [
    "#General\n",
    "import re\n",
    "import sys\n",
    "import pprint\n",
    "import seaborn as sb\n",
    "import numpy   as np\n",
    "import pandas  as pd\n",
    "import random  as rnd\n",
    "\n",
    "from bios    import read\n",
    "from os.path import isfile\n",
    "from copy    import deepcopy\n",
    "from time    import time\n",
    "from tqdm    import tqdm\n",
    "from getdist import plots\n",
    "\n",
    "from scipy.interpolate import interp1d\n",
    "from scipy.stats       import multivariate_normal\n",
    "from itertools         import repeat\n",
    "\n",
    "from getdist import plots,loadMCSamples,MCSamples\n",
    "\n",
    "from theory_code.distance_theory import TheoryCalcs\n",
    "\n",
    "#Plotting\n",
    "import matplotlib\n",
    "import matplotlib.pyplot as plt\n",
    "\n",
    "from matplotlib import rc\n",
    "\n",
    "rc('text', usetex=True)\n",
    "rc('font', family='serif')\n",
    "matplotlib.rcParams.update({'font.size': 18})\n",
    "\n",
    "red    = '#8e001c'\n",
    "yellow = '#ffb302'\n",
    "\n",
    "sidelegend = {'bbox_to_anchor': (1.04,0.5), \n",
    "              'loc': \"center left\",\n",
    "              'frameon': False}\n",
    "bottomlegend = {'bbox_to_anchor': (0.35,-0.2), \n",
    "                'loc': \"center left\",\n",
    "                'frameon': False,\n",
    "                'ncols': 3}"
   ]
  },
  {
   "cell_type": "markdown",
   "id": "04b4d5ef",
   "metadata": {},
   "source": [
    "# Settings"
   ]
  },
  {
   "cell_type": "code",
   "execution_count": null,
   "id": "02ccaf6f",
   "metadata": {},
   "outputs": [],
   "source": [
    "DESI_LCDM = {'omegam': 0.2948,\n",
    "             'H0': 68.53,\n",
    "             'epsilon0_GW': -0.1}\n",
    "\n",
    "fiducial = {'H0': 68.53,\n",
    "            'omegam': 0.2948,\n",
    "            'ombh2': 0.02218,\n",
    "            'epsilon0_EM': 0.1,\n",
    "            'epsilon0_GW': -0.1,\n",
    "            'omk': 0.,\n",
    "            'mnu': 0.06,\n",
    "            'nnu': 3.,\n",
    "            'MB': -19.2435}\n",
    "\n",
    "theory_settings = {'zmin': 0.001,\n",
    "                   'zmax': 5.,\n",
    "                   'Nz': 1000,\n",
    "                   'zdrag': 1060,\n",
    "                   'm1': 1.4,\n",
    "                   'm2': 1.4}\n",
    "\n",
    "zplot = np.linspace(0.01,3,100)\n",
    "\n",
    "BAO_data = './data/DESI'\n",
    "SN_data  = './data/Pantheon'\n",
    "GW_data = './mock_data/GW_mock_data'"
   ]
  },
  {
   "cell_type": "code",
   "execution_count": null,
   "id": "110e27ce",
   "metadata": {},
   "outputs": [],
   "source": [
    "results = {r'$\\Lambda$CDM': {#r'DESI': {'root': './chains/DESI_LCDM',\n",
    "                                 #         'sampler': 'MH',\n",
    "                                  #        'DDR_model': 'constant',\n",
    "                                   #       'Nchains': 4,\n",
    "                                    #      'color': red,\n",
    "                                     #     'filled': True},\n",
    "                                #r'Pantheon+$M_B$': {'root': './chains/Pantheon_LCDM',\n",
    "                                 #                   'sampler': 'MH',\n",
    "                                  #                  'DDR_model': 'constant',\n",
    "                                   #                 'color': 'purple',\n",
    "                                    #                'Nchains': 4,\n",
    "                                     #               'filled': True},\n",
    "                                #r'DESI+Pantheon+$M_B$': {'root': './chains/DESI_Pantheon_LCDM',\n",
    "                                 #                        'sampler': 'MH',\n",
    "                                  #                       'DDR_model': 'constant',\n",
    "                                   #                      'color': 'black',\n",
    "                                    #                     'Nchains': 4,\n",
    "                                     #                    'filled': True},\n",
    "                                r'ET': {'root': './chains/ET_LCDM',\n",
    "                                                   'sampler': 'MH',\n",
    "                                                   'DDR_model': 'constant',\n",
    "                                                   'color': yellow,\n",
    "                                                   'Nchains': 1,\n",
    "                                                   'filled': True},}\n",
    "                               \n",
    "          }"
   ]
  },
  {
   "cell_type": "markdown",
   "id": "6d429861",
   "metadata": {},
   "source": [
    "# Analysis"
   ]
  },
  {
   "cell_type": "code",
   "execution_count": null,
   "id": "3ee50c04",
   "metadata": {},
   "outputs": [],
   "source": [
    "def analyze_results(name,info):\n",
    "    analysis = deepcopy(info)\n",
    "    \n",
    "    print('')\n",
    "    print('\\x1b[1;31m Analyzing {} \\x1b[0m'.format(name))\n",
    "    \n",
    "    chain_info = deepcopy(info)\n",
    "    if info['sampler'] == 'MH':\n",
    "        sample = loadMCSamples(info['root'], settings={'ignore_rows': 0.3})\n",
    "    \n",
    "        if info['Nchains']>1:\n",
    "            print('R-1({}) with {:.0f}% of points ignored = {:.3f}'.format(name,30,\n",
    "                                                                           sample.getGelmanRubin()))\n",
    "        else:\n",
    "            print('Single chain, no R-1 computed. Trust Cobaya and hope for the best')\n",
    "\n",
    "    elif info ['sampler'] == 'Nautilus':\n",
    "        chain_info['outyaml'] = read(info['root']+'.params.yaml', file_type='yaml')\n",
    "\n",
    "        primary_pars = {par: chain_info['outyaml']['params'][par]['latex']\n",
    "                        for par in chain_info['outyaml']['params']\n",
    "                        if type(chain_info['outyaml']['params'][par]) == dict and \n",
    "                        'prior' in chain_info['outyaml']['params'][par]}\n",
    "\n",
    "        derived_pars = {par: chain_info['outyaml']['params'][par]['latex']\n",
    "                        for par in chain_info['outyaml']['params']\n",
    "                        if type(chain_info['outyaml']['params'][par]) == dict and \n",
    "                        'prior' not in chain_info['outyaml']['params'][par]}\n",
    "\n",
    "        pars = primary_pars | derived_pars\n",
    "\n",
    "        raw_chains = pd.read_csv(info['root']+'_chain.txt',sep='\\s+',\n",
    "                                 header=0)#,names=['weight','minuslogpost']+list(pars.keys()))\n",
    "        raw_chains['Chain number'] = 1\n",
    "\n",
    "        chain_info['Nautilus pars']  = pars\n",
    "        chain_info['Sampled points'] = raw_chains\n",
    "        chain_info['evidence']       = chain_info['outyaml']['evidence']\n",
    "        \n",
    "        sample=MCSamples(samples=chain_info['Sampled points'][list(chain_info['Nautilus pars'].keys())].values,\n",
    "                         names=list(chain_info['Nautilus pars'].keys()),\n",
    "                         labels=list(chain_info['Nautilus pars'].values()),label=name)\n",
    "\n",
    "        sample.root = info['root']\n",
    "\n",
    "        \n",
    "    analysis['MCsamples'] = sample\n",
    "    analysis['bounds']    = sample.getTable(limit=1).tableTex()\n",
    "    \n",
    "    all_pars     = sample.getParamNames().list()\n",
    "    labels       = sample.getParamNames().labels()\n",
    "    primary_pars = sample.getParamNames().getRunningNames()\n",
    "    \n",
    "    analysis['means'] = {par:val for par,val in zip(all_pars,sample.getMeans()) if par in fiducial}\n",
    "    \n",
    "    #MM: theory specific part\n",
    "    for par in fiducial:\n",
    "        if par not in analysis['means']:\n",
    "            analysis['means'][par] = fiducial[par]\n",
    "            \n",
    "    case_settings = deepcopy(theory_settings)\n",
    "    case_settings['DDR_model'] = info['DDR_model']\n",
    "            \n",
    "    analysis['theory'] = TheoryCalcs(case_settings,analysis['means'])\n",
    "    ###############################\n",
    "    \n",
    "    \n",
    "    print(analysis['bounds'])\n",
    "    if 'evidence' in chain_info:\n",
    "        print('')\n",
    "        print('log(Z)={:3f}'.format(chain_info['evidence']))\n",
    "                               \n",
    "    all_pars = sample.getParamNames().list()\n",
    "                               \n",
    "    analysis['Sampled points']         = pd.DataFrame(sample.makeSingleSamples(),columns=all_pars)\n",
    "    analysis['Sampled points']['Case'] = name\n",
    "                    \n",
    "    return analysis"
   ]
  },
  {
   "cell_type": "code",
   "execution_count": null,
   "id": "9a676c7a",
   "metadata": {},
   "outputs": [],
   "source": [
    "analyzed_results = {model: {name: analyze_results(name,resdict) for name,resdict in model_dict.items()} \n",
    "                    for model,model_dict in results.items()}"
   ]
  },
  {
   "cell_type": "markdown",
   "id": "686ee029",
   "metadata": {},
   "source": [
    "# Parameter plots"
   ]
  },
  {
   "cell_type": "markdown",
   "id": "6574b3cd",
   "metadata": {},
   "source": [
    "## General"
   ]
  },
  {
   "cell_type": "code",
   "execution_count": null,
   "id": "83498ad7",
   "metadata": {},
   "outputs": [],
   "source": [
    "for model,model_dict in analyzed_results.items():\n",
    "    g = plots.get_subplot_plotter(subplot_size=1,width_inch=12, scaling=False)\n",
    "    g.settings.figure_legend_frame = False\n",
    "    g.settings.axes_fontsize=20\n",
    "    g.settings.axes_labelsize=20\n",
    "    g.settings.legend_fontsize=20\n",
    "    g.settings.axis_marker_color = 'black'\n",
    "    g.settings.axis_marker_ls = '--'\n",
    "    g.settings.axis_marker_lw = 1\n",
    "    g.settings.axis_tick_x_rotation = 45\n",
    "    g.triangle_plot([result['MCsamples'] for result in model_dict.values()], \n",
    "        ['epsilon0_GW','omegam','H0','ombh2'],\n",
    "        filled=[result['filled'] for result in model_dict.values()],\n",
    "        legend_loc='upper right',\n",
    "        legend_labels=[result for result in model_dict.keys()],\n",
    "        contour_colors=[result['color'] for result in model_dict.values()],\n",
    "        contour_lws=2,\n",
    "        markers={k:v for k,v in DESI_LCDM.items()})    \n",
    "    plt.suptitle(model)\n",
    "    g.fig.align_ylabels()\n",
    "    g.fig.align_xlabels();"
   ]
  },
  {
   "cell_type": "markdown",
   "id": "b9afb061",
   "metadata": {},
   "source": [
    "## DDR"
   ]
  },
  {
   "cell_type": "code",
   "execution_count": null,
   "id": "bf8276d3",
   "metadata": {},
   "outputs": [],
   "source": [
    "for model,model_dict in analyzed_results.items():\n",
    "    g = plots.get_subplot_plotter(subplot_size=1,width_inch=12, scaling=False)\n",
    "    g.settings.figure_legend_frame = False\n",
    "    g.settings.axes_fontsize=20\n",
    "    g.settings.axes_labelsize=20\n",
    "    g.settings.legend_fontsize=20\n",
    "    g.settings.axis_marker_color = 'black'\n",
    "    g.settings.axis_marker_ls = '--'\n",
    "    g.settings.axis_marker_lw = 1\n",
    "    g.settings.axis_tick_x_rotation = 45\n",
    "    g.triangle_plot([result['MCsamples'] for result in model_dict.values()], \n",
    "        ['epsilon0_EM','omegam'],\n",
    "        filled=[result['filled'] for result in model_dict.values()],\n",
    "        legend_loc='upper right',\n",
    "        legend_labels=[result for result in model_dict.keys()],\n",
    "        contour_colors=[result['color'] for result in model_dict.values()],\n",
    "        contour_lws=2,\n",
    "        markers={k:v for k,v in DESI_LCDM.items()})    \n",
    "    plt.suptitle(model)\n",
    "    g.fig.align_ylabels()\n",
    "    g.fig.align_xlabels();"
   ]
  },
  {
   "cell_type": "markdown",
   "id": "72b8793e",
   "metadata": {},
   "source": [
    "# Tension plots"
   ]
  },
  {
   "cell_type": "markdown",
   "id": "b1aabdcc",
   "metadata": {},
   "source": [
    "## $H_0$"
   ]
  },
  {
   "cell_type": "code",
   "execution_count": null,
   "id": "cc086ca4",
   "metadata": {},
   "outputs": [],
   "source": [
    "for model,model_dict in analyzed_results.items():\n",
    "    g = plots.get_single_plotter(width_inch=5)\n",
    "    g.plot_1d([result['MCsamples'] for result in model_dict.values()],'H0',\n",
    "              colors=[result['color'] for result in model_dict.values()], \n",
    "              normalized=True,\n",
    "              lims=[66,76],\n",
    "              lws=3)\n",
    "    g.add_x_bands(73.04, 1.04)\n",
    "    g.add_x_bands(67.36, 0.54)\n",
    "    g.add_legend([result for result in model_dict.keys()])\n",
    "    plt.title(model)"
   ]
  },
  {
   "cell_type": "markdown",
   "id": "2686f50c",
   "metadata": {},
   "source": [
    "## $M_B$"
   ]
  },
  {
   "cell_type": "code",
   "execution_count": null,
   "id": "d8e7f433",
   "metadata": {},
   "outputs": [],
   "source": [
    "for model,model_dict in analyzed_results.items():\n",
    "    if r'DESI+Pantheon' in model_dict:\n",
    "        g = plots.get_single_plotter(width_inch=5)\n",
    "        g.plot_1d([model_dict[r'DESI+Pantheon']['MCsamples']],'MB',\n",
    "                  colors=[model_dict[r'DESI+Pantheon']['color']], \n",
    "                  normalized=True,\n",
    "                  lims=[-19.5,-19.1],\n",
    "                  lws=3)\n",
    "        g.add_x_bands(-19.2435 ,0.0373)\n",
    "        plt.title(model)"
   ]
  },
  {
   "cell_type": "code",
   "execution_count": null,
   "id": "8f748f24-7932-4233-b4b3-f79e394897b0",
   "metadata": {},
   "outputs": [],
   "source": [
    "for model,model_dict in analyzed_results.items():\n",
    "     if r'ET' in model_dict:\n",
    "        g = plots.get_single_plotter(width_inch=5)\n",
    "        g.plot_1d([model_dict[r'ET']['MCsamples']],'epsilon0_GW',\n",
    "                  colors=[model_dict[r'ET']['color']], \n",
    "                  normalized=True,\n",
    "                  lims=[-0.2,0.3],\n",
    "                  lws=3)\n",
    "        g.add_x_bands(-0.1 ,0.0373)\n",
    "        plt.title(model)"
   ]
  },
  {
   "cell_type": "markdown",
   "id": "89cee1d6",
   "metadata": {},
   "source": [
    "# Theory plots"
   ]
  },
  {
   "cell_type": "markdown",
   "id": "49a2ba9b",
   "metadata": {},
   "source": [
    "## load data"
   ]
  },
  {
   "cell_type": "code",
   "execution_count": null,
   "id": "97e583bf",
   "metadata": {},
   "outputs": [],
   "source": [
    "datalist = []\n",
    "dataset_SN = np.load(SN_data+'.npy',allow_pickle=True).item()\n",
    "datalist.append(pd.DataFrame.from_dict({r'$z$': dataset_SN['z'],\n",
    "                                        r'$m_B(z)$': dataset_SN['value'],\n",
    "                                        r'error': [np.sqrt(var) for var in np.diag(dataset_SN['covmat'])]}))\n",
    "\n",
    "dataset_DH = np.load(BAO_data+'_DH.npy',allow_pickle=True).item()\n",
    "datalist.append(pd.DataFrame.from_dict({r'$z$': dataset_DH['z'],\n",
    "                                        r'$d_H(z)$': dataset_DH['value'],\n",
    "                                        r'error': [var for var in dataset_DH['covmat']]}))\n",
    "\n",
    "dataset_DM = np.load(BAO_data+'_DM.npy',allow_pickle=True).item()\n",
    "datalist.append(pd.DataFrame.from_dict({r'$z$': dataset_DM['z'],\n",
    "                                        r'$d_M(z)$': dataset_DM['value'],\n",
    "                                        r'error': [var for var in dataset_DM['covmat']]}))\n",
    "\n",
    "dataset_DV = np.load(BAO_data+'_DV.npy',allow_pickle=True).item()\n",
    "datalist.append(pd.DataFrame.from_dict({r'$z$': dataset_DV['z'],\n",
    "                                        r'$d_V(z)$': dataset_DV['value'],\n",
    "                                        r'error': [np.sqrt(var) for var in np.diag(dataset_DV['covmat'])]}))\n",
    "\n",
    "dataset_GW = np.load(GW_data+'.npy',allow_pickle=True).item()\n",
    "\n",
    "datalist.append(pd.DataFrame.from_dict({r'$z$': dataset_GW['z'],\n",
    "                                        r'$h_GW$': dataset_GW['h_GW'],\n",
    "                                        r'error': [np.sqrt(var) for var in np.diag(dataset_GW['covmat'])]}))\n",
    "\n",
    "\n",
    "\n",
    "data = pd.concat(datalist,ignore_index=True)"
   ]
  },
  {
   "cell_type": "markdown",
   "id": "f5b416b1",
   "metadata": {},
   "source": [
    "## pack theory"
   ]
  },
  {
   "cell_type": "code",
   "execution_count": null,
   "id": "a801f723",
   "metadata": {},
   "outputs": [],
   "source": [
    "functions = {'DH': r'$d_H(z)$',\n",
    "             'DL_EM': r'$d_L^{\\rm em}(z)$',\n",
    "             'DL_GW': r'$d_L^{\\rm gw}(z)$',\n",
    "             'DM': r'$d_M(z)$',\n",
    "             'DV': r'$d_V(z)$',\n",
    "             'h_GW': r'$h_GW$',\n",
    "             'eta_EM': r'$\\eta^{\\rm em}(z)$',\n",
    "             'eta_GW': r'$\\eta^{\\rm gw}(z)$',\n",
    "             'mB': r'$m_B(z)$'}\n",
    "\n",
    "\n",
    "\n",
    "for model, model_dict in analyzed_results.items():\n",
    "    full_results = []\n",
    "    \n",
    "    for name,results in model_dict.items():\n",
    "        theory = results['theory']\n",
    "        theory_df = pd.DataFrame.from_dict({r'$z$': zplot}|{label: getattr(theory,func)(zplot) \n",
    "                                                         for func,label in functions.items()})\n",
    "        \n",
    "        theory_df['Case']  = name\n",
    "        theory_df['color'] = results['color']\n",
    "        \n",
    "        full_results.append(theory_df)\n",
    "        \n",
    "    model_dict['Theory'] = pd.concat(full_results,ignore_index=True)"
   ]
  },
  {
   "cell_type": "code",
   "execution_count": null,
   "id": "3c08a6a0",
   "metadata": {},
   "outputs": [],
   "source": [
    "for model, model_dict in analyzed_results.items():\n",
    "    for func in functions.values():\n",
    "        \n",
    "        plt.figure()\n",
    "        plt.title(model)\n",
    "        sb.lineplot(model_dict['Theory'],x=r'$z$',y=func,\n",
    "                    hue='Case',palette=list(model_dict['Theory']['color'].unique()))\n",
    "        if func in data.columns:\n",
    "            \n",
    "            dataplot = data[[r'$z$',func,'error']].dropna(axis='index')\n",
    "            plt.errorbar(dataplot[r'$z$'],dataplot[func],yerr=dataplot['error'],\n",
    "                         ls='',color='black',marker='*')"
   ]
  },
  {
   "cell_type": "code",
   "execution_count": null,
   "id": "50e9d026",
   "metadata": {},
   "outputs": [],
   "source": []
  },
  {
   "cell_type": "code",
   "execution_count": null,
   "id": "c597230e",
   "metadata": {},
   "outputs": [],
   "source": []
  }
 ],
 "metadata": {
  "kernelspec": {
   "display_name": "Python 3 (ipykernel)",
   "language": "python",
   "name": "python3"
  },
  "language_info": {
   "codemirror_mode": {
    "name": "ipython",
    "version": 3
   },
   "file_extension": ".py",
   "mimetype": "text/x-python",
   "name": "python",
   "nbconvert_exporter": "python",
   "pygments_lexer": "ipython3",
   "version": "3.9.6"
  }
 },
 "nbformat": 4,
 "nbformat_minor": 5
}
